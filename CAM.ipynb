{
 "cells": [
  {
   "cell_type": "markdown",
   "metadata": {},
   "source": []
  },
  {
   "cell_type": "code",
   "execution_count": 22,
   "metadata": {},
   "outputs": [],
   "source": [
    "from pdf2image import convert_from_path\n",
    "pages = convert_from_path('tmp/cards.pdf', 500)\n",
    "\n",
    "for count, page in enumerate(pages):\n",
    "    page.save(f'tmp/out{count+1}.jpg', 'JPEG')"
   ]
  },
  {
   "cell_type": "code",
   "execution_count": 14,
   "metadata": {},
   "outputs": [],
   "source": [
    "from PIL import Image, ImageOps\n",
    "\n",
    "for i in range(72):\n",
    "    # print(i+1)\n",
    "    if i+1<56:\n",
    "        ImageOps.expand(Image.open(f'tmp/out{i+1}.jpg'),border=15,fill='white').save(f'tmp/fout{i+1}.jpg')\n",
    "    else:\n",
    "        ImageOps.expand(Image.open(f'tmp/out{i+1}.jpg'),border=15,fill='black').save(f'tmp/fout{i+1}.jpg')\n",
    "    "
   ]
  },
  {
   "cell_type": "code",
   "execution_count": 23,
   "metadata": {},
   "outputs": [],
   "source": [
    "from PIL import Image\n",
    "\n",
    "for i in range(72):\n",
    "    # print(i+1)\n",
    "    old_im = Image.open(f'tmp/out{i+1}.jpg')\n",
    "    old_size = old_im.size\n",
    "\n",
    "    new_size = (int(old_size[0]*1.15), int(old_size[1]*1.15))\n",
    "\n",
    "    if i+1<56:\n",
    "        new_im = Image.new(\"RGB\", new_size, color=\"White\")   ## luckily, this is already black!\n",
    "    else:\n",
    "        new_im = Image.new(\"RGB\", new_size)   ## luckily, this is already black!\n",
    "    box = tuple((n - o) // 2 for n, o in zip(new_size, old_size))\n",
    "    new_im.paste(old_im.crop([5,5,old_size[0]-5,old_size[1]-5]), box)\n",
    "\n",
    "    new_im.save(f'tmp/fout{i+1}.jpg')\n"
   ]
  }
 ],
 "metadata": {
  "kernelspec": {
   "display_name": ".venv",
   "language": "python",
   "name": "python3"
  },
  "language_info": {
   "codemirror_mode": {
    "name": "ipython",
    "version": 3
   },
   "file_extension": ".py",
   "mimetype": "text/x-python",
   "name": "python",
   "nbconvert_exporter": "python",
   "pygments_lexer": "ipython3",
   "version": "3.11.4"
  }
 },
 "nbformat": 4,
 "nbformat_minor": 2
}
