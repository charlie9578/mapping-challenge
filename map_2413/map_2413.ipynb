{
 "cells": [
  {
   "cell_type": "code",
   "execution_count": null,
   "metadata": {},
   "outputs": [],
   "source": []
  },
  {
   "cell_type": "code",
   "execution_count": 5,
   "metadata": {},
   "outputs": [
    {
     "ename": "FileNotFoundError",
     "evalue": "[Errno 2] No such file or directory: 'C:\\\\Users\\\\Charlie\\\\Documents\\\\GitHub\\\\mapping-challenge\\\\map_2413\\\\path\\\\to\\\\input.yaml'",
     "output_type": "error",
     "traceback": [
      "\u001b[1;31m---------------------------------------------------------------------------\u001b[0m",
      "\u001b[1;31mFileNotFoundError\u001b[0m                         Traceback (most recent call last)",
      "File \u001b[1;32mc:\\Users\\Charlie\\Documents\\GitHub\\mapping-challenge\\.venv\\Lib\\site-packages\\floris\\floris_model.py:71\u001b[0m, in \u001b[0;36mFlorisModel.__init__\u001b[1;34m(self, configuration)\u001b[0m\n\u001b[0;32m     70\u001b[0m \u001b[38;5;28;01mtry\u001b[39;00m:\n\u001b[1;32m---> 71\u001b[0m     \u001b[38;5;28mself\u001b[39m\u001b[38;5;241m.\u001b[39mcore \u001b[38;5;241m=\u001b[39m \u001b[43mCore\u001b[49m\u001b[38;5;241;43m.\u001b[39;49m\u001b[43mfrom_file\u001b[49m\u001b[43m(\u001b[49m\u001b[38;5;28;43mself\u001b[39;49m\u001b[38;5;241;43m.\u001b[39;49m\u001b[43mconfiguration\u001b[49m\u001b[43m)\u001b[49m\n\u001b[0;32m     72\u001b[0m \u001b[38;5;28;01mexcept\u001b[39;00m \u001b[38;5;167;01mFileNotFoundError\u001b[39;00m:\n\u001b[0;32m     73\u001b[0m     \u001b[38;5;66;03m# If the file cannot be found, then attempt the configuration path relative to the\u001b[39;00m\n\u001b[0;32m     74\u001b[0m     \u001b[38;5;66;03m# file location from which FlorisModel was attempted to be run. If successful,\u001b[39;00m\n\u001b[0;32m     75\u001b[0m     \u001b[38;5;66;03m# update self.configuration to an absolute, working file path and name.\u001b[39;00m\n",
      "File \u001b[1;32mc:\\Users\\Charlie\\Documents\\GitHub\\mapping-challenge\\.venv\\Lib\\site-packages\\floris\\core\\core.py:362\u001b[0m, in \u001b[0;36mCore.from_file\u001b[1;34m(cls, input_file_path)\u001b[0m\n\u001b[0;32m    353\u001b[0m \u001b[38;5;250m\u001b[39m\u001b[38;5;124;03m\"\"\"Creates a `Floris` instance from an input file. Must be filetype YAML.\u001b[39;00m\n\u001b[0;32m    354\u001b[0m \n\u001b[0;32m    355\u001b[0m \u001b[38;5;124;03mArgs:\u001b[39;00m\n\u001b[1;32m   (...)\u001b[0m\n\u001b[0;32m    360\u001b[0m \u001b[38;5;124;03m    Floris: The class object instance.\u001b[39;00m\n\u001b[0;32m    361\u001b[0m \u001b[38;5;124;03m\"\"\"\u001b[39;00m\n\u001b[1;32m--> 362\u001b[0m input_dict \u001b[38;5;241m=\u001b[39m \u001b[43mload_yaml\u001b[49m\u001b[43m(\u001b[49m\u001b[43mPath\u001b[49m\u001b[43m(\u001b[49m\u001b[43minput_file_path\u001b[49m\u001b[43m)\u001b[49m\u001b[38;5;241;43m.\u001b[39;49m\u001b[43mresolve\u001b[49m\u001b[43m(\u001b[49m\u001b[43m)\u001b[49m\u001b[43m)\u001b[49m\n\u001b[0;32m    363\u001b[0m check_input_file_for_v3_keys(input_dict)\n",
      "File \u001b[1;32mc:\\Users\\Charlie\\Documents\\GitHub\\mapping-challenge\\.venv\\Lib\\site-packages\\floris\\utilities.py:348\u001b[0m, in \u001b[0;36mload_yaml\u001b[1;34m(filename, loader)\u001b[0m\n\u001b[0;32m    347\u001b[0m \u001b[38;5;28;01mdef\u001b[39;00m \u001b[38;5;21mload_yaml\u001b[39m(filename, loader\u001b[38;5;241m=\u001b[39mLoader):\n\u001b[1;32m--> 348\u001b[0m     \u001b[38;5;28;01mwith\u001b[39;00m \u001b[38;5;28;43mopen\u001b[39;49m\u001b[43m(\u001b[49m\u001b[43mfilename\u001b[49m\u001b[43m)\u001b[49m \u001b[38;5;28;01mas\u001b[39;00m fid:\n\u001b[0;32m    349\u001b[0m         \u001b[38;5;28;01mreturn\u001b[39;00m yaml\u001b[38;5;241m.\u001b[39mload(fid, loader)\n",
      "\u001b[1;31mFileNotFoundError\u001b[0m: [Errno 2] No such file or directory: 'C:\\\\Users\\\\Charlie\\\\Documents\\\\GitHub\\\\mapping-challenge\\\\map_2413\\\\path\\\\to\\\\input.yaml'",
      "\nDuring handling of the above exception, another exception occurred:\n",
      "\u001b[1;31mFileNotFoundError\u001b[0m                         Traceback (most recent call last)",
      "Cell \u001b[1;32mIn[5], line 2\u001b[0m\n\u001b[0;32m      1\u001b[0m \u001b[38;5;28;01mfrom\u001b[39;00m \u001b[38;5;21;01mfloris\u001b[39;00m \u001b[38;5;28;01mimport\u001b[39;00m FlorisModel\n\u001b[1;32m----> 2\u001b[0m fmodel \u001b[38;5;241m=\u001b[39m \u001b[43mFlorisModel\u001b[49m\u001b[43m(\u001b[49m\u001b[38;5;124;43m\"\u001b[39;49m\u001b[38;5;124;43mpath/to/input.yaml\u001b[39;49m\u001b[38;5;124;43m\"\u001b[39;49m\u001b[43m)\u001b[49m\n\u001b[0;32m      3\u001b[0m fmodel\u001b[38;5;241m.\u001b[39mset(\n\u001b[0;32m      4\u001b[0m     wind_directions\u001b[38;5;241m=\u001b[39m[i \u001b[38;5;28;01mfor\u001b[39;00m i \u001b[38;5;129;01min\u001b[39;00m \u001b[38;5;28mrange\u001b[39m(\u001b[38;5;241m10\u001b[39m)],\n\u001b[0;32m      5\u001b[0m     wind_speeds\u001b[38;5;241m=\u001b[39m[\u001b[38;5;241m8.0\u001b[39m]\u001b[38;5;241m*\u001b[39m\u001b[38;5;241m10\u001b[39m,\n\u001b[0;32m      6\u001b[0m     turbulence_intensities\u001b[38;5;241m=\u001b[39m[\u001b[38;5;241m0.06\u001b[39m]\u001b[38;5;241m*\u001b[39m\u001b[38;5;241m10\u001b[39m\n\u001b[0;32m      7\u001b[0m )\n\u001b[0;32m      8\u001b[0m fmodel\u001b[38;5;241m.\u001b[39mrun()\n",
      "File \u001b[1;32mc:\\Users\\Charlie\\Documents\\GitHub\\mapping-challenge\\.venv\\Lib\\site-packages\\floris\\floris_model.py:78\u001b[0m, in \u001b[0;36mFlorisModel.__init__\u001b[1;34m(self, configuration)\u001b[0m\n\u001b[0;32m     76\u001b[0m         base_fn \u001b[38;5;241m=\u001b[39m Path(inspect\u001b[38;5;241m.\u001b[39mstack()[\u001b[38;5;241m-\u001b[39m\u001b[38;5;241m1\u001b[39m]\u001b[38;5;241m.\u001b[39mfilename)\u001b[38;5;241m.\u001b[39mresolve()\u001b[38;5;241m.\u001b[39mparent\n\u001b[0;32m     77\u001b[0m         config \u001b[38;5;241m=\u001b[39m (base_fn \u001b[38;5;241m/\u001b[39m \u001b[38;5;28mself\u001b[39m\u001b[38;5;241m.\u001b[39mconfiguration)\u001b[38;5;241m.\u001b[39mresolve()\n\u001b[1;32m---> 78\u001b[0m         \u001b[38;5;28mself\u001b[39m\u001b[38;5;241m.\u001b[39mcore \u001b[38;5;241m=\u001b[39m \u001b[43mCore\u001b[49m\u001b[38;5;241;43m.\u001b[39;49m\u001b[43mfrom_file\u001b[49m\u001b[43m(\u001b[49m\u001b[43mconfig\u001b[49m\u001b[43m)\u001b[49m\n\u001b[0;32m     79\u001b[0m         \u001b[38;5;28mself\u001b[39m\u001b[38;5;241m.\u001b[39mconfiguration \u001b[38;5;241m=\u001b[39m config\n\u001b[0;32m     81\u001b[0m \u001b[38;5;28;01melif\u001b[39;00m \u001b[38;5;28misinstance\u001b[39m(\u001b[38;5;28mself\u001b[39m\u001b[38;5;241m.\u001b[39mconfiguration, \u001b[38;5;28mdict\u001b[39m):\n",
      "File \u001b[1;32mc:\\Users\\Charlie\\Documents\\GitHub\\mapping-challenge\\.venv\\Lib\\site-packages\\floris\\core\\core.py:362\u001b[0m, in \u001b[0;36mCore.from_file\u001b[1;34m(cls, input_file_path)\u001b[0m\n\u001b[0;32m    351\u001b[0m \u001b[38;5;129m@classmethod\u001b[39m\n\u001b[0;32m    352\u001b[0m \u001b[38;5;28;01mdef\u001b[39;00m \u001b[38;5;21mfrom_file\u001b[39m(\u001b[38;5;28mcls\u001b[39m, input_file_path: \u001b[38;5;28mstr\u001b[39m \u001b[38;5;241m|\u001b[39m Path) \u001b[38;5;241m-\u001b[39m\u001b[38;5;241m>\u001b[39m Core:\n\u001b[0;32m    353\u001b[0m \u001b[38;5;250m    \u001b[39m\u001b[38;5;124;03m\"\"\"Creates a `Floris` instance from an input file. Must be filetype YAML.\u001b[39;00m\n\u001b[0;32m    354\u001b[0m \n\u001b[0;32m    355\u001b[0m \u001b[38;5;124;03m    Args:\u001b[39;00m\n\u001b[1;32m   (...)\u001b[0m\n\u001b[0;32m    360\u001b[0m \u001b[38;5;124;03m        Floris: The class object instance.\u001b[39;00m\n\u001b[0;32m    361\u001b[0m \u001b[38;5;124;03m    \"\"\"\u001b[39;00m\n\u001b[1;32m--> 362\u001b[0m     input_dict \u001b[38;5;241m=\u001b[39m \u001b[43mload_yaml\u001b[49m\u001b[43m(\u001b[49m\u001b[43mPath\u001b[49m\u001b[43m(\u001b[49m\u001b[43minput_file_path\u001b[49m\u001b[43m)\u001b[49m\u001b[38;5;241;43m.\u001b[39;49m\u001b[43mresolve\u001b[49m\u001b[43m(\u001b[49m\u001b[43m)\u001b[49m\u001b[43m)\u001b[49m\n\u001b[0;32m    363\u001b[0m     check_input_file_for_v3_keys(input_dict)\n\u001b[0;32m    364\u001b[0m     \u001b[38;5;28;01mreturn\u001b[39;00m Core\u001b[38;5;241m.\u001b[39mfrom_dict(input_dict)\n",
      "File \u001b[1;32mc:\\Users\\Charlie\\Documents\\GitHub\\mapping-challenge\\.venv\\Lib\\site-packages\\floris\\utilities.py:348\u001b[0m, in \u001b[0;36mload_yaml\u001b[1;34m(filename, loader)\u001b[0m\n\u001b[0;32m    347\u001b[0m \u001b[38;5;28;01mdef\u001b[39;00m \u001b[38;5;21mload_yaml\u001b[39m(filename, loader\u001b[38;5;241m=\u001b[39mLoader):\n\u001b[1;32m--> 348\u001b[0m     \u001b[38;5;28;01mwith\u001b[39;00m \u001b[38;5;28;43mopen\u001b[39;49m\u001b[43m(\u001b[49m\u001b[43mfilename\u001b[49m\u001b[43m)\u001b[49m \u001b[38;5;28;01mas\u001b[39;00m fid:\n\u001b[0;32m    349\u001b[0m         \u001b[38;5;28;01mreturn\u001b[39;00m yaml\u001b[38;5;241m.\u001b[39mload(fid, loader)\n",
      "\u001b[1;31mFileNotFoundError\u001b[0m: [Errno 2] No such file or directory: 'C:\\\\Users\\\\Charlie\\\\Documents\\\\GitHub\\\\mapping-challenge\\\\map_2413\\\\path\\\\to\\\\input.yaml'"
     ]
    }
   ],
   "source": [
    "from floris import FlorisModel\n",
    "fmodel = FlorisModel(\"path/to/input.yaml\")\n",
    "fmodel.set(\n",
    "    wind_directions=[i for i in range(10)],\n",
    "    wind_speeds=[8.0]*10,\n",
    "    turbulence_intensities=[0.06]*10\n",
    ")\n",
    "fmodel.run()"
   ]
  },
  {
   "cell_type": "code",
   "execution_count": 4,
   "metadata": {},
   "outputs": [
    {
     "ename": "ModuleNotFoundError",
     "evalue": "No module named 'floris.tools'",
     "output_type": "error",
     "traceback": [
      "\u001b[1;31m---------------------------------------------------------------------------\u001b[0m",
      "\u001b[1;31mModuleNotFoundError\u001b[0m                       Traceback (most recent call last)",
      "Cell \u001b[1;32mIn[4], line 1\u001b[0m\n\u001b[1;32m----> 1\u001b[0m \u001b[38;5;28;01mfrom\u001b[39;00m \u001b[38;5;21;01mfloris\u001b[39;00m\u001b[38;5;21;01m.\u001b[39;00m\u001b[38;5;21;01mtools\u001b[39;00m \u001b[38;5;28;01mimport\u001b[39;00m FlorisInterface\n\u001b[0;32m      2\u001b[0m \u001b[38;5;28;01mimport\u001b[39;00m \u001b[38;5;21;01mmatplotlib\u001b[39;00m\u001b[38;5;21;01m.\u001b[39;00m\u001b[38;5;21;01mpyplot\u001b[39;00m \u001b[38;5;28;01mas\u001b[39;00m \u001b[38;5;21;01mplt\u001b[39;00m\n\u001b[0;32m      4\u001b[0m \u001b[38;5;66;03m# Initialize the FLORIS interface with a JSON configuration file\u001b[39;00m\n\u001b[0;32m      5\u001b[0m \u001b[38;5;66;03m# You can use your own JSON file or one of FLORIS's sample configurations\u001b[39;00m\n",
      "\u001b[1;31mModuleNotFoundError\u001b[0m: No module named 'floris.tools'"
     ]
    }
   ],
   "source": [
    "from floris.tools import FlorisInterface\n",
    "import matplotlib.pyplot as plt\n",
    "\n",
    "# Initialize the FLORIS interface with a JSON configuration file\n",
    "# You can use your own JSON file or one of FLORIS's sample configurations\n",
    "fi = FlorisInterface(\"example_input.json\")\n",
    "\n",
    "# Visualize the initial layout of the turbines\n",
    "fi.plot_layout(title=\"Initial Turbine Layout\")\n",
    "\n",
    "# Specify wind conditions\n",
    "wind_speeds = [8.0]  # Wind speed in m/s\n",
    "wind_directions = [270]  # Wind direction in degrees\n",
    "turbulence_intensity = [0.1]  # Turbulence intensity (fraction)\n",
    "\n",
    "# Set the wind farm conditions\n",
    "fi.reinitialize_flow_field(\n",
    "    wind_speed=wind_speeds,\n",
    "    wind_direction=wind_directions,\n",
    "    turbulence_intensity=turbulence_intensity\n",
    ")\n",
    "\n",
    "# Run the wake simulation\n",
    "fi.calculate_wake()\n",
    "\n",
    "# Retrieve the power output of the turbines\n",
    "farm_power = fi.get_farm_power()  # Total farm power in Watts\n",
    "turbine_powers = fi.get_turbine_powers()  # Individual turbine powers in Watts\n",
    "\n",
    "print(f\"Total Farm Power: {farm_power / 1e6:.2f} MW\")\n",
    "for i, power in enumerate(turbine_powers):\n",
    "    print(f\"Turbine {i + 1} Power: {power / 1e3:.2f} kW\")\n",
    "\n",
    "# Plot the wake profile (horizontal plane)\n",
    "horizontal_plane = fi.get_hor_plane(y_plane=0.0)  # Horizontal plane at hub height\n",
    "fig, ax = plt.subplots()\n",
    "im = ax.imshow(\n",
    "    horizontal_plane.flow_field,\n",
    "    extent=[horizontal_plane.x1, horizontal_plane.x2, horizontal_plane.y1, horizontal_plane.y2],\n",
    "    origin='lower',\n",
    "    cmap='viridis'\n",
    ")\n",
    "plt.colorbar(im, label='Wind Speed (m/s)')\n",
    "plt.title(\"Wake Profile at Hub Height\")\n",
    "plt.xlabel(\"x (m)\")\n",
    "plt.ylabel(\"y (m)\")\n",
    "plt.show()\n"
   ]
  },
  {
   "cell_type": "code",
   "execution_count": 3,
   "metadata": {},
   "outputs": [
    {
     "ename": "ImportError",
     "evalue": "cannot import name 'FlorisInterface' from 'floris' (c:\\Users\\Charlie\\Documents\\GitHub\\mapping-challenge\\.venv\\Lib\\site-packages\\floris\\__init__.py)",
     "output_type": "error",
     "traceback": [
      "\u001b[1;31m---------------------------------------------------------------------------\u001b[0m",
      "\u001b[1;31mImportError\u001b[0m                               Traceback (most recent call last)",
      "Cell \u001b[1;32mIn[3], line 1\u001b[0m\n\u001b[1;32m----> 1\u001b[0m \u001b[38;5;28;01mfrom\u001b[39;00m \u001b[38;5;21;01mfloris\u001b[39;00m \u001b[38;5;28;01mimport\u001b[39;00m FlorisInterface\n\u001b[0;32m      3\u001b[0m \u001b[38;5;28;01mimport\u001b[39;00m \u001b[38;5;21;01mmatplotlib\u001b[39;00m\u001b[38;5;21;01m.\u001b[39;00m\u001b[38;5;21;01mpyplot\u001b[39;00m \u001b[38;5;28;01mas\u001b[39;00m \u001b[38;5;21;01mplt\u001b[39;00m\n",
      "\u001b[1;31mImportError\u001b[0m: cannot import name 'FlorisInterface' from 'floris' (c:\\Users\\Charlie\\Documents\\GitHub\\mapping-challenge\\.venv\\Lib\\site-packages\\floris\\__init__.py)"
     ]
    }
   ],
   "source": [
    "from floris import FlorisInterface\n",
    "\n",
    "import matplotlib.pyplot as plt\n"
   ]
  },
  {
   "cell_type": "code",
   "execution_count": null,
   "metadata": {},
   "outputs": [],
   "source": [
    "# Initialize FLORIS with the default configuration\n",
    "floris = FlorisInterface(\"example_input.json\")\n"
   ]
  },
  {
   "cell_type": "code",
   "execution_count": null,
   "metadata": {},
   "outputs": [],
   "source": [
    "# Define the turbine layout\n",
    "turbine_x = [0, 500, 1000]  # X-coordinates for each turbine\n",
    "turbine_y = [0, 0, 0]       # Y-coordinates for each turbine\n",
    "\n",
    "# Update turbine layout in FLORIS\n",
    "floris.reinitialize_flow_field(layout=[turbine_x, turbine_y])\n"
   ]
  },
  {
   "cell_type": "code",
   "execution_count": null,
   "metadata": {},
   "outputs": [],
   "source": [
    "# Set wind speed, direction, and turbulence intensity\n",
    "wind_speed = 8  # in meters per second\n",
    "wind_direction = 270  # in degrees (e.g., 270 for west)\n",
    "turbulence_intensity = 0.1  # Typically 0.05 - 0.2\n",
    "\n",
    "# Update wind conditions in FLORIS\n",
    "floris.reinitialize_flow_field(wind_speed=wind_speed, wind_direction=wind_direction, turbulence_intensity=turbulence_intensity)\n"
   ]
  },
  {
   "cell_type": "code",
   "execution_count": null,
   "metadata": {},
   "outputs": [],
   "source": [
    "# Calculate the flow field with wake effects\n",
    "floris.calculate_wake()\n"
   ]
  },
  {
   "cell_type": "code",
   "execution_count": null,
   "metadata": {},
   "outputs": [],
   "source": [
    "# Plot the wake effects\n",
    "from floris.tools.visualization import visualize_cut_plane\n",
    "\n",
    "# Extract a horizontal slice of the flow field\n",
    "hor_plane = floris.get_hor_plane()\n",
    "\n",
    "# Plot the horizontal slice\n",
    "visualize_cut_plane(hor_plane, title=\"Wind Farm Wake Profile\")\n",
    "plt.show()\n"
   ]
  },
  {
   "cell_type": "code",
   "execution_count": null,
   "metadata": {},
   "outputs": [],
   "source": [
    "# Print power output for each turbine\n",
    "for i, turbine in enumerate(floris.farm.turbines):\n",
    "    print(f\"Turbine {i+1} Power Output: {turbine.power_output / 1e3:.2f} kW\")\n"
   ]
  },
  {
   "cell_type": "code",
   "execution_count": null,
   "metadata": {},
   "outputs": [],
   "source": []
  },
  {
   "cell_type": "code",
   "execution_count": null,
   "metadata": {},
   "outputs": [],
   "source": []
  }
 ],
 "metadata": {
  "kernelspec": {
   "display_name": ".venv",
   "language": "python",
   "name": "python3"
  },
  "language_info": {
   "codemirror_mode": {
    "name": "ipython",
    "version": 3
   },
   "file_extension": ".py",
   "mimetype": "text/x-python",
   "name": "python",
   "nbconvert_exporter": "python",
   "pygments_lexer": "ipython3",
   "version": "3.11.4"
  }
 },
 "nbformat": 4,
 "nbformat_minor": 2
}
