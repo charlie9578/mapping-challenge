{
 "cells": [
  {
   "cell_type": "code",
   "execution_count": 19,
   "metadata": {},
   "outputs": [],
   "source": [
    "# Electricity data: Hannah Ritchie and Pablo Rosado (2020) - “Electricity Mix” Published online at OurWorldInData.org. \n",
    "# Retrieved from: 'https://ourworldindata.org/electricity-mix' [Online Resource]\n",
    "\n",
    "# Map shape data: https://www.naturalearthdata.com/downloads/110m-cultural-vectors/"
   ]
  },
  {
   "cell_type": "code",
   "execution_count": 20,
   "metadata": {},
   "outputs": [],
   "source": [
    "from bokeh.io import output_notebook, show, output_file, curdoc, save\n",
    "from bokeh.plotting import figure\n",
    "from bokeh.models import GeoJSONDataSource, LinearColorMapper, ColorBar, Slider, HoverTool\n",
    "from bokeh.palettes import brewer\n",
    "from bokeh.models import Column, Range1d\n",
    "from bokeh.models.callbacks import CustomJS\n",
    "import json\n",
    "import pandas as pd\n",
    "import geopandas as gpd\n",
    "import numpy as np\n",
    "import re\n"
   ]
  },
  {
   "cell_type": "code",
   "execution_count": 21,
   "metadata": {},
   "outputs": [],
   "source": [
    "#Read shapefile using Geopandas\n",
    "shapefile = 'ne_110m_admin_0_countries/ne_110m_admin_0_countries.shp'\n",
    "gdf = gpd.read_file(shapefile)[['ADMIN', 'ADM0_A3', 'geometry']]\n",
    "\n",
    "#Rename columns\n",
    "gdf.columns = ['country', 'country_code', 'geometry']\n",
    "\n",
    "#Drop row corresponding to 'Antarctica'\n",
    "gdf = gdf[gdf['country'] != 'Antarctica']"
   ]
  },
  {
   "cell_type": "code",
   "execution_count": 22,
   "metadata": {},
   "outputs": [],
   "source": [
    "# import electricity data\n",
    "url_electricity_data = 'share-elec-by-source.csv'\n",
    "electricity_data = pd.read_csv(url_electricity_data)"
   ]
  },
  {
   "cell_type": "code",
   "execution_count": 23,
   "metadata": {},
   "outputs": [],
   "source": [
    "electricity_data = electricity_data.dropna(subset=\"Code\")"
   ]
  },
  {
   "cell_type": "code",
   "execution_count": 24,
   "metadata": {},
   "outputs": [],
   "source": [
    "electricity_data_recent = electricity_data.sort_values('Year').drop_duplicates('Code',keep='last')"
   ]
  },
  {
   "cell_type": "code",
   "execution_count": 25,
   "metadata": {},
   "outputs": [],
   "source": [
    "technologies = ['Coal (% electricity)', 'Gas (% electricity)',\n",
    "       'Hydro (% electricity)', 'Solar (% electricity)',\n",
    "       'Wind (% electricity)', 'Oil (% electricity)',\n",
    "       'Nuclear (% electricity)',\n",
    "       'Other renewables excluding bioenergy (% electricity)',\n",
    "       'Bioenergy (% electricity)']"
   ]
  },
  {
   "cell_type": "code",
   "execution_count": 26,
   "metadata": {},
   "outputs": [],
   "source": [
    "electricity_data_recent[technologies] = electricity_data_recent[technologies]/100"
   ]
  },
  {
   "cell_type": "code",
   "execution_count": 27,
   "metadata": {},
   "outputs": [],
   "source": [
    "electricity_data_recent = electricity_data_recent.rename(columns=lambda x: re.sub(' \\(% electricity\\)','',x))\n",
    "electricity_data_recent = electricity_data_recent.rename(columns=lambda x: re.sub(' ','_',x))"
   ]
  },
  {
   "cell_type": "code",
   "execution_count": 28,
   "metadata": {},
   "outputs": [],
   "source": [
    "# merge dataframes\n",
    "merged = gdf.merge(electricity_data_recent, left_on = 'country_code', right_on = 'Code',how = 'left')"
   ]
  },
  {
   "cell_type": "code",
   "execution_count": 29,
   "metadata": {},
   "outputs": [],
   "source": [
    "merged = merged.fillna(0)"
   ]
  },
  {
   "cell_type": "code",
   "execution_count": 30,
   "metadata": {},
   "outputs": [],
   "source": [
    "from shapely.geometry import Polygon"
   ]
  },
  {
   "cell_type": "code",
   "execution_count": 31,
   "metadata": {},
   "outputs": [],
   "source": [
    "merged.loc[-1] = [\"Lost World\",\"XXX\",Polygon([[0, 0], [0, 0], [0, 0], [0, 0], [0, 0], [0, 0]]),\"XXX\",\"XXX\",1,1,1,1,1,1,1,1,1,1]  # adding a row\n",
    "merged.index = merged.index + 1  # shifting index\n",
    "merged = merged.sort_index()  # sorting by index"
   ]
  },
  {
   "cell_type": "code",
   "execution_count": 32,
   "metadata": {},
   "outputs": [
    {
     "data": {
      "text/html": [
       "<div>\n",
       "<style scoped>\n",
       "    .dataframe tbody tr th:only-of-type {\n",
       "        vertical-align: middle;\n",
       "    }\n",
       "\n",
       "    .dataframe tbody tr th {\n",
       "        vertical-align: top;\n",
       "    }\n",
       "\n",
       "    .dataframe thead th {\n",
       "        text-align: right;\n",
       "    }\n",
       "</style>\n",
       "<table border=\"1\" class=\"dataframe\">\n",
       "  <thead>\n",
       "    <tr style=\"text-align: right;\">\n",
       "      <th></th>\n",
       "      <th>country</th>\n",
       "      <th>country_code</th>\n",
       "      <th>geometry</th>\n",
       "      <th>Entity</th>\n",
       "      <th>Code</th>\n",
       "      <th>Year</th>\n",
       "      <th>Coal</th>\n",
       "      <th>Gas</th>\n",
       "      <th>Hydro</th>\n",
       "      <th>Solar</th>\n",
       "      <th>Wind</th>\n",
       "      <th>Oil</th>\n",
       "      <th>Nuclear</th>\n",
       "      <th>Other_renewables_excluding_bioenergy</th>\n",
       "      <th>Bioenergy</th>\n",
       "    </tr>\n",
       "  </thead>\n",
       "  <tbody>\n",
       "    <tr>\n",
       "      <th>0</th>\n",
       "      <td>Lost World</td>\n",
       "      <td>XXX</td>\n",
       "      <td>POLYGON ((0.00000 0.00000, 0.00000 0.00000, 0....</td>\n",
       "      <td>XXX</td>\n",
       "      <td>XXX</td>\n",
       "      <td>1.0</td>\n",
       "      <td>1.000000</td>\n",
       "      <td>1.000000</td>\n",
       "      <td>1.000000</td>\n",
       "      <td>1.000000</td>\n",
       "      <td>1.000000</td>\n",
       "      <td>1.000000</td>\n",
       "      <td>1.000000</td>\n",
       "      <td>1.0</td>\n",
       "      <td>1.000000</td>\n",
       "    </tr>\n",
       "    <tr>\n",
       "      <th>1</th>\n",
       "      <td>Fiji</td>\n",
       "      <td>FJI</td>\n",
       "      <td>MULTIPOLYGON (((180.00000 -16.06713, 180.00000...</td>\n",
       "      <td>Fiji</td>\n",
       "      <td>FJI</td>\n",
       "      <td>2021.0</td>\n",
       "      <td>0.000000</td>\n",
       "      <td>0.000000</td>\n",
       "      <td>0.500000</td>\n",
       "      <td>0.008772</td>\n",
       "      <td>0.000000</td>\n",
       "      <td>0.359649</td>\n",
       "      <td>0.000000</td>\n",
       "      <td>0.0</td>\n",
       "      <td>0.131579</td>\n",
       "    </tr>\n",
       "    <tr>\n",
       "      <th>2</th>\n",
       "      <td>United Republic of Tanzania</td>\n",
       "      <td>TZA</td>\n",
       "      <td>POLYGON ((33.90371 -0.95000, 34.07262 -1.05982...</td>\n",
       "      <td>Tanzania</td>\n",
       "      <td>TZA</td>\n",
       "      <td>2021.0</td>\n",
       "      <td>0.000000</td>\n",
       "      <td>0.229829</td>\n",
       "      <td>0.366748</td>\n",
       "      <td>0.007335</td>\n",
       "      <td>0.000000</td>\n",
       "      <td>0.328851</td>\n",
       "      <td>0.000000</td>\n",
       "      <td>0.0</td>\n",
       "      <td>0.067237</td>\n",
       "    </tr>\n",
       "    <tr>\n",
       "      <th>3</th>\n",
       "      <td>Western Sahara</td>\n",
       "      <td>SAH</td>\n",
       "      <td>POLYGON ((-8.66559 27.65643, -8.66512 27.58948...</td>\n",
       "      <td>0</td>\n",
       "      <td>0</td>\n",
       "      <td>0.0</td>\n",
       "      <td>0.000000</td>\n",
       "      <td>0.000000</td>\n",
       "      <td>0.000000</td>\n",
       "      <td>0.000000</td>\n",
       "      <td>0.000000</td>\n",
       "      <td>0.000000</td>\n",
       "      <td>0.000000</td>\n",
       "      <td>0.0</td>\n",
       "      <td>0.000000</td>\n",
       "    </tr>\n",
       "    <tr>\n",
       "      <th>4</th>\n",
       "      <td>Canada</td>\n",
       "      <td>CAN</td>\n",
       "      <td>MULTIPOLYGON (((-122.84000 49.00000, -122.9742...</td>\n",
       "      <td>Canada</td>\n",
       "      <td>CAN</td>\n",
       "      <td>2022.0</td>\n",
       "      <td>0.063814</td>\n",
       "      <td>0.105088</td>\n",
       "      <td>0.614815</td>\n",
       "      <td>0.008709</td>\n",
       "      <td>0.059726</td>\n",
       "      <td>0.004777</td>\n",
       "      <td>0.128881</td>\n",
       "      <td>0.0</td>\n",
       "      <td>0.014191</td>\n",
       "    </tr>\n",
       "  </tbody>\n",
       "</table>\n",
       "</div>"
      ],
      "text/plain": [
       "                       country country_code  \\\n",
       "0                   Lost World          XXX   \n",
       "1                         Fiji          FJI   \n",
       "2  United Republic of Tanzania          TZA   \n",
       "3               Western Sahara          SAH   \n",
       "4                       Canada          CAN   \n",
       "\n",
       "                                            geometry    Entity Code    Year  \\\n",
       "0  POLYGON ((0.00000 0.00000, 0.00000 0.00000, 0....       XXX  XXX     1.0   \n",
       "1  MULTIPOLYGON (((180.00000 -16.06713, 180.00000...      Fiji  FJI  2021.0   \n",
       "2  POLYGON ((33.90371 -0.95000, 34.07262 -1.05982...  Tanzania  TZA  2021.0   \n",
       "3  POLYGON ((-8.66559 27.65643, -8.66512 27.58948...         0    0     0.0   \n",
       "4  MULTIPOLYGON (((-122.84000 49.00000, -122.9742...    Canada  CAN  2022.0   \n",
       "\n",
       "       Coal       Gas     Hydro     Solar      Wind       Oil   Nuclear  \\\n",
       "0  1.000000  1.000000  1.000000  1.000000  1.000000  1.000000  1.000000   \n",
       "1  0.000000  0.000000  0.500000  0.008772  0.000000  0.359649  0.000000   \n",
       "2  0.000000  0.229829  0.366748  0.007335  0.000000  0.328851  0.000000   \n",
       "3  0.000000  0.000000  0.000000  0.000000  0.000000  0.000000  0.000000   \n",
       "4  0.063814  0.105088  0.614815  0.008709  0.059726  0.004777  0.128881   \n",
       "\n",
       "   Other_renewables_excluding_bioenergy  Bioenergy  \n",
       "0                                   1.0   1.000000  \n",
       "1                                   0.0   0.131579  \n",
       "2                                   0.0   0.067237  \n",
       "3                                   0.0   0.000000  \n",
       "4                                   0.0   0.014191  "
      ]
     },
     "execution_count": 32,
     "metadata": {},
     "output_type": "execute_result"
    }
   ],
   "source": [
    "merged.iloc[:5]"
   ]
  },
  {
   "cell_type": "code",
   "execution_count": 33,
   "metadata": {},
   "outputs": [],
   "source": [
    "#Read data to json.\n",
    "merged_json = json.loads(merged.to_json())\n",
    "\n",
    "#Convert to String like object.\n",
    "json_data = json.dumps(merged_json)\n",
    "\n",
    "# Wrap the data in to GeoJSONDataSource\n",
    "source = GeoJSONDataSource(geojson = json_data)"
   ]
  },
  {
   "cell_type": "code",
   "execution_count": 34,
   "metadata": {},
   "outputs": [],
   "source": [
    "#Create figure object.\n",
    "p = figure(title = 'Renewables in the electricity mix', height = 800 , width = 1400)\n",
    "p.xgrid.grid_line_color = None\n",
    "p.ygrid.grid_line_color = None\n",
    "p.background_fill_color = \"lightgrey\"\n",
    "\n",
    "# Add patch renderer to figure\n",
    "p.patches('xs','ys', source = source, fill_color = \"white\",\n",
    "          line_color = \"black\", line_width = 0.25, fill_alpha = 1)\n",
    "\n",
    "p.patches('xs','ys', source = source, fill_color = \"cyan\", legend_label = \"Hydro\",\n",
    "          line_color = \"black\", line_width = 0.25,fill_alpha = \"Hydro\")\n",
    "\n",
    "p.patches('xs','ys', source = source, fill_color = \"yellow\", legend_label = \"Solar\",\n",
    "          line_color = \"black\", line_width = 0.25, fill_alpha = \"Solar\")\n",
    "\n",
    "p.patches('xs','ys', source = source, fill_color = \"magenta\", legend_label = \"Wind\",\n",
    "          line_color = \"black\", line_width = 0.25, fill_alpha = \"Wind\")\n",
    "\n",
    "#Add hover tool\n",
    "hover = HoverTool(tooltips = [ ('Country/region','@country'),\n",
    "                              ('Hydro', '@Hydro{%01.1f}'),\n",
    "                              ('Solar', '@Solar{%01.1f}'),\n",
    "                              ('Wind', '@Wind{%01.1f}'),\n",
    "                              ])\n",
    "\n",
    "p.legend.location = \"bottom_left\"\n",
    "p.legend.click_policy = \"hide\"\n",
    "\n",
    "p.add_tools(hover)\n",
    "\n",
    "# set a range using a Range1d\n",
    "p.x_range = Range1d(-180, 180, bounds=(-180, 180))\n",
    "p.y_range = Range1d(-60, 90, bounds=(-60, 90))\n",
    "\n",
    "p.legend.title = \"Technology (click to select)\""
   ]
  },
  {
   "cell_type": "code",
   "execution_count": 35,
   "metadata": {},
   "outputs": [],
   "source": [
    "output_file(filename=\"Map13-Choropleth-Renewables.html\",title=\"Renewable Electricity Mix\")"
   ]
  },
  {
   "cell_type": "code",
   "execution_count": 36,
   "metadata": {},
   "outputs": [],
   "source": [
    "show(p)"
   ]
  },
  {
   "cell_type": "code",
   "execution_count": null,
   "metadata": {},
   "outputs": [],
   "source": []
  }
 ],
 "metadata": {
  "kernelspec": {
   "display_name": "Python 3",
   "language": "python",
   "name": "python3"
  },
  "language_info": {
   "codemirror_mode": {
    "name": "ipython",
    "version": 3
   },
   "file_extension": ".py",
   "mimetype": "text/x-python",
   "name": "python",
   "nbconvert_exporter": "python",
   "pygments_lexer": "ipython3",
   "version": "3.11.4"
  }
 },
 "nbformat": 4,
 "nbformat_minor": 4
}
