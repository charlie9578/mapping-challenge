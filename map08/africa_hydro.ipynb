{
 "cells": [
  {
   "cell_type": "markdown",
   "id": "07a60ae6",
   "metadata": {},
   "source": [
    "# Nigeria Rivers\n",
    "\n",
    "Showing Guernsey's beaches on a map"
   ]
  },
  {
   "cell_type": "code",
   "execution_count": 1,
   "id": "9627621e",
   "metadata": {},
   "outputs": [
    {
     "data": {
      "text/html": [
       "<style>\n",
       "        .bk-notebook-logo {\n",
       "            display: block;\n",
       "            width: 20px;\n",
       "            height: 20px;\n",
       "            background-image: url(data:image/png;base64,iVBORw0KGgoAAAANSUhEUgAAABQAAAAUCAYAAACNiR0NAAAABHNCSVQICAgIfAhkiAAAAAlwSFlzAAALEgAACxIB0t1+/AAAABx0RVh0U29mdHdhcmUAQWRvYmUgRmlyZXdvcmtzIENTNui8sowAAAOkSURBVDiNjZRtaJVlGMd/1/08zzln5zjP1LWcU9N0NkN8m2CYjpgQYQXqSs0I84OLIC0hkEKoPtiH3gmKoiJDU7QpLgoLjLIQCpEsNJ1vqUOdO7ppbuec5+V+rj4ctwzd8IIbbi6u+8f1539dt3A78eXC7QizUF7gyV1fD1Yqg4JWz84yffhm0qkFqBogB9rM8tZdtwVsPUhWhGcFJngGeWrPzHm5oaMmkfEg1usvLFyc8jLRqDOMru7AyC8saQr7GG7f5fvDeH7Ej8CM66nIF+8yngt6HWaKh7k49Soy9nXurCi1o3qUbS3zWfrYeQDTB/Qj6kX6Ybhw4B+bOYoLKCC9H3Nu/leUTZ1JdRWkkn2ldcCamzrcf47KKXdAJllSlxAOkRgyHsGC/zRday5Qld9DyoM4/q/rUoy/CXh3jzOu3bHUVZeU+DEn8FInkPBFlu3+nW3Nw0mk6vCDiWg8CeJaxEwuHS3+z5RgY+YBR6V1Z1nxSOfoaPa4LASWxxdNp+VWTk7+4vzaou8v8PN+xo+KY2xsw6une2frhw05CTYOmQvsEhjhWjn0bmXPjpE1+kplmmkP3suftwTubK9Vq22qKmrBhpY4jvd5afdRA3wGjFAgcnTK2s4hY0/GPNIb0nErGMCRxWOOX64Z8RAC4oCXdklmEvcL8o0BfkNK4lUg9HTl+oPlQxdNo3Mg4Nv175e/1LDGzZen30MEjRUtmXSfiTVu1kK8W4txyV6BMKlbgk3lMwYCiusNy9fVfvvwMxv8Ynl6vxoByANLTWplvuj/nF9m2+PDtt1eiHPBr1oIfhCChQMBw6Aw0UulqTKZdfVvfG7VcfIqLG9bcldL/+pdWTLxLUy8Qq38heUIjh4XlzZxzQm19lLFlr8vdQ97rjZVOLf8nclzckbcD4wxXMidpX30sFd37Fv/GtwwhzhxGVAprjbg0gCAEeIgwCZyTV2Z1REEW8O4py0wsjeloKoMr6iCY6dP92H6Vw/oTyICIthibxjm/DfN9lVz8IqtqKYLUXfoKVMVQVVJOElGjrnnUt9T9wbgp8AyYKaGlqingHZU/uG2NTZSVqwHQTWkx9hxjkpWDaCg6Ckj5qebgBVbT3V3NNXMSiWSDdGV3hrtzla7J+duwPOToIg42ChPQOQjspnSlp1V+Gjdged7+8UN5CRAV7a5EdFNwCjEaBR27b3W890TE7g24NAP/mMDXRWrGoFPQI9ls/MWO2dWFAar/xcOIImbbpA3zgAAAABJRU5ErkJggg==);\n",
       "        }\n",
       "    </style>\n",
       "    <div>\n",
       "        <a href=\"https://bokeh.org\" target=\"_blank\" class=\"bk-notebook-logo\"></a>\n",
       "        <span id=\"b8692175-25da-43e7-b7ca-c47bef74751f\">Loading BokehJS ...</span>\n",
       "    </div>\n"
      ]
     },
     "metadata": {},
     "output_type": "display_data"
    },
    {
     "data": {
      "application/javascript": "(function(root) {\n  function now() {\n    return new Date();\n  }\n\n  const force = true;\n\n  if (typeof root._bokeh_onload_callbacks === \"undefined\" || force === true) {\n    root._bokeh_onload_callbacks = [];\n    root._bokeh_is_loading = undefined;\n  }\n\nconst JS_MIME_TYPE = 'application/javascript';\n  const HTML_MIME_TYPE = 'text/html';\n  const EXEC_MIME_TYPE = 'application/vnd.bokehjs_exec.v0+json';\n  const CLASS_NAME = 'output_bokeh rendered_html';\n\n  /**\n   * Render data to the DOM node\n   */\n  function render(props, node) {\n    const script = document.createElement(\"script\");\n    node.appendChild(script);\n  }\n\n  /**\n   * Handle when an output is cleared or removed\n   */\n  function handleClearOutput(event, handle) {\n    function drop(id) {\n      const view = Bokeh.index.get_by_id(id)\n      if (view != null) {\n        view.model.document.clear()\n        Bokeh.index.delete(view)\n      }\n    }\n\n    const cell = handle.cell;\n\n    const id = cell.output_area._bokeh_element_id;\n    const server_id = cell.output_area._bokeh_server_id;\n\n    // Clean up Bokeh references\n    if (id != null) {\n      drop(id)\n    }\n\n    if (server_id !== undefined) {\n      // Clean up Bokeh references\n      const cmd_clean = \"from bokeh.io.state import curstate; print(curstate().uuid_to_server['\" + server_id + \"'].get_sessions()[0].document.roots[0]._id)\";\n      cell.notebook.kernel.execute(cmd_clean, {\n        iopub: {\n          output: function(msg) {\n            const id = msg.content.text.trim()\n            drop(id)\n          }\n        }\n      });\n      // Destroy server and session\n      const cmd_destroy = \"import bokeh.io.notebook as ion; ion.destroy_server('\" + server_id + \"')\";\n      cell.notebook.kernel.execute(cmd_destroy);\n    }\n  }\n\n  /**\n   * Handle when a new output is added\n   */\n  function handleAddOutput(event, handle) {\n    const output_area = handle.output_area;\n    const output = handle.output;\n\n    // limit handleAddOutput to display_data with EXEC_MIME_TYPE content only\n    if ((output.output_type != \"display_data\") || (!Object.prototype.hasOwnProperty.call(output.data, EXEC_MIME_TYPE))) {\n      return\n    }\n\n    const toinsert = output_area.element.find(\".\" + CLASS_NAME.split(' ')[0]);\n\n    if (output.metadata[EXEC_MIME_TYPE][\"id\"] !== undefined) {\n      toinsert[toinsert.length - 1].firstChild.textContent = output.data[JS_MIME_TYPE];\n      // store reference to embed id on output_area\n      output_area._bokeh_element_id = output.metadata[EXEC_MIME_TYPE][\"id\"];\n    }\n    if (output.metadata[EXEC_MIME_TYPE][\"server_id\"] !== undefined) {\n      const bk_div = document.createElement(\"div\");\n      bk_div.innerHTML = output.data[HTML_MIME_TYPE];\n      const script_attrs = bk_div.children[0].attributes;\n      for (let i = 0; i < script_attrs.length; i++) {\n        toinsert[toinsert.length - 1].firstChild.setAttribute(script_attrs[i].name, script_attrs[i].value);\n        toinsert[toinsert.length - 1].firstChild.textContent = bk_div.children[0].textContent\n      }\n      // store reference to server id on output_area\n      output_area._bokeh_server_id = output.metadata[EXEC_MIME_TYPE][\"server_id\"];\n    }\n  }\n\n  function register_renderer(events, OutputArea) {\n\n    function append_mime(data, metadata, element) {\n      // create a DOM node to render to\n      const toinsert = this.create_output_subarea(\n        metadata,\n        CLASS_NAME,\n        EXEC_MIME_TYPE\n      );\n      this.keyboard_manager.register_events(toinsert);\n      // Render to node\n      const props = {data: data, metadata: metadata[EXEC_MIME_TYPE]};\n      render(props, toinsert[toinsert.length - 1]);\n      element.append(toinsert);\n      return toinsert\n    }\n\n    /* Handle when an output is cleared or removed */\n    events.on('clear_output.CodeCell', handleClearOutput);\n    events.on('delete.Cell', handleClearOutput);\n\n    /* Handle when a new output is added */\n    events.on('output_added.OutputArea', handleAddOutput);\n\n    /**\n     * Register the mime type and append_mime function with output_area\n     */\n    OutputArea.prototype.register_mime_type(EXEC_MIME_TYPE, append_mime, {\n      /* Is output safe? */\n      safe: true,\n      /* Index of renderer in `output_area.display_order` */\n      index: 0\n    });\n  }\n\n  // register the mime type if in Jupyter Notebook environment and previously unregistered\n  if (root.Jupyter !== undefined) {\n    const events = require('base/js/events');\n    const OutputArea = require('notebook/js/outputarea').OutputArea;\n\n    if (OutputArea.prototype.mime_types().indexOf(EXEC_MIME_TYPE) == -1) {\n      register_renderer(events, OutputArea);\n    }\n  }\n  if (typeof (root._bokeh_timeout) === \"undefined\" || force === true) {\n    root._bokeh_timeout = Date.now() + 5000;\n    root._bokeh_failed_load = false;\n  }\n\n  const NB_LOAD_WARNING = {'data': {'text/html':\n     \"<div style='background-color: #fdd'>\\n\"+\n     \"<p>\\n\"+\n     \"BokehJS does not appear to have successfully loaded. If loading BokehJS from CDN, this \\n\"+\n     \"may be due to a slow or bad network connection. Possible fixes:\\n\"+\n     \"</p>\\n\"+\n     \"<ul>\\n\"+\n     \"<li>re-rerun `output_notebook()` to attempt to load from CDN again, or</li>\\n\"+\n     \"<li>use INLINE resources instead, as so:</li>\\n\"+\n     \"</ul>\\n\"+\n     \"<code>\\n\"+\n     \"from bokeh.resources import INLINE\\n\"+\n     \"output_notebook(resources=INLINE)\\n\"+\n     \"</code>\\n\"+\n     \"</div>\"}};\n\n  function display_loaded() {\n    const el = document.getElementById(\"b8692175-25da-43e7-b7ca-c47bef74751f\");\n    if (el != null) {\n      el.textContent = \"BokehJS is loading...\";\n    }\n    if (root.Bokeh !== undefined) {\n      if (el != null) {\n        el.textContent = \"BokehJS \" + root.Bokeh.version + \" successfully loaded.\";\n      }\n    } else if (Date.now() < root._bokeh_timeout) {\n      setTimeout(display_loaded, 100)\n    }\n  }\n\n  function run_callbacks() {\n    try {\n      root._bokeh_onload_callbacks.forEach(function(callback) {\n        if (callback != null)\n          callback();\n      });\n    } finally {\n      delete root._bokeh_onload_callbacks\n    }\n    console.debug(\"Bokeh: all callbacks have finished\");\n  }\n\n  function load_libs(css_urls, js_urls, callback) {\n    if (css_urls == null) css_urls = [];\n    if (js_urls == null) js_urls = [];\n\n    root._bokeh_onload_callbacks.push(callback);\n    if (root._bokeh_is_loading > 0) {\n      console.debug(\"Bokeh: BokehJS is being loaded, scheduling callback at\", now());\n      return null;\n    }\n    if (js_urls == null || js_urls.length === 0) {\n      run_callbacks();\n      return null;\n    }\n    console.debug(\"Bokeh: BokehJS not loaded, scheduling load and callback at\", now());\n    root._bokeh_is_loading = css_urls.length + js_urls.length;\n\n    function on_load() {\n      root._bokeh_is_loading--;\n      if (root._bokeh_is_loading === 0) {\n        console.debug(\"Bokeh: all BokehJS libraries/stylesheets loaded\");\n        run_callbacks()\n      }\n    }\n\n    function on_error(url) {\n      console.error(\"failed to load \" + url);\n    }\n\n    for (let i = 0; i < css_urls.length; i++) {\n      const url = css_urls[i];\n      const element = document.createElement(\"link\");\n      element.onload = on_load;\n      element.onerror = on_error.bind(null, url);\n      element.rel = \"stylesheet\";\n      element.type = \"text/css\";\n      element.href = url;\n      console.debug(\"Bokeh: injecting link tag for BokehJS stylesheet: \", url);\n      document.body.appendChild(element);\n    }\n\n    for (let i = 0; i < js_urls.length; i++) {\n      const url = js_urls[i];\n      const element = document.createElement('script');\n      element.onload = on_load;\n      element.onerror = on_error.bind(null, url);\n      element.async = false;\n      element.src = url;\n      console.debug(\"Bokeh: injecting script tag for BokehJS library: \", url);\n      document.head.appendChild(element);\n    }\n  };\n\n  function inject_raw_css(css) {\n    const element = document.createElement(\"style\");\n    element.appendChild(document.createTextNode(css));\n    document.body.appendChild(element);\n  }\n\n  const js_urls = [\"https://cdn.bokeh.org/bokeh/release/bokeh-3.3.0.min.js\", \"https://cdn.bokeh.org/bokeh/release/bokeh-gl-3.3.0.min.js\", \"https://cdn.bokeh.org/bokeh/release/bokeh-widgets-3.3.0.min.js\", \"https://cdn.bokeh.org/bokeh/release/bokeh-tables-3.3.0.min.js\", \"https://cdn.bokeh.org/bokeh/release/bokeh-mathjax-3.3.0.min.js\"];\n  const css_urls = [];\n\n  const inline_js = [    function(Bokeh) {\n      Bokeh.set_log_level(\"info\");\n    },\nfunction(Bokeh) {\n    }\n  ];\n\n  function run_inline_js() {\n    if (root.Bokeh !== undefined || force === true) {\n          for (let i = 0; i < inline_js.length; i++) {\n      inline_js[i].call(root, root.Bokeh);\n    }\nif (force === true) {\n        display_loaded();\n      }} else if (Date.now() < root._bokeh_timeout) {\n      setTimeout(run_inline_js, 100);\n    } else if (!root._bokeh_failed_load) {\n      console.log(\"Bokeh: BokehJS failed to load within specified timeout.\");\n      root._bokeh_failed_load = true;\n    } else if (force !== true) {\n      const cell = $(document.getElementById(\"b8692175-25da-43e7-b7ca-c47bef74751f\")).parents('.cell').data().cell;\n      cell.output_area.append_execute_result(NB_LOAD_WARNING)\n    }\n  }\n\n  if (root._bokeh_is_loading === 0) {\n    console.debug(\"Bokeh: BokehJS loaded, going straight to plotting\");\n    run_inline_js();\n  } else {\n    load_libs(css_urls, js_urls, function() {\n      console.debug(\"Bokeh: BokehJS plotting callback run at\", now());\n      run_inline_js();\n    });\n  }\n}(window));",
      "application/vnd.bokehjs_load.v0+json": ""
     },
     "metadata": {},
     "output_type": "display_data"
    }
   ],
   "source": [
    "import requests\n",
    "import json\n",
    "from types import SimpleNamespace\n",
    "\n",
    "import pickle\n",
    "import os\n",
    "import re\n",
    "\n",
    "import openstreetmap_mapping as osm\n",
    "\n",
    "import pandas as pd\n",
    "\n",
    "from bokeh.plotting import show, output_file\n",
    "from bokeh.io import output_notebook\n",
    "\n",
    "from bokeh.plotting import figure\n",
    "from bokeh.models import ColumnDataSource, OpenURL, TapTool\n",
    "from bokeh.models import WMTSTileSource\n",
    "from bokeh.models import HoverTool\n",
    "from bokeh.models import LabelSet\n",
    "from bokeh.palettes import viridis, Category20, Blues256\n",
    "\n",
    "output_notebook()\n",
    "\n",
    "from pyproj import Transformer"
   ]
  },
  {
   "cell_type": "code",
   "execution_count": 2,
   "id": "078bd2ff",
   "metadata": {},
   "outputs": [],
   "source": [
    "%load_ext autoreload\n",
    "%autoreload 2"
   ]
  },
  {
   "cell_type": "code",
   "execution_count": 3,
   "metadata": {},
   "outputs": [],
   "source": [
    "# Use pyproj to transform longitude and latitude into web-mercator and add to a copy of the asset dataframe\n",
    "TRANSFORM_4326_TO_3857 = Transformer.from_crs(\"EPSG:4326\", \"EPSG:3857\")\n",
    "TRANSFORM_3857_TO_4326 = Transformer.from_crs(\"EPSG:3857\", \"EPSG:4326\")"
   ]
  },
  {
   "cell_type": "code",
   "execution_count": 4,
   "id": "ddfb0ebe",
   "metadata": {},
   "outputs": [],
   "source": [
    "class Tags(object):\n",
    "    \n",
    "    def __init__(self, *initial_data, **kwargs):\n",
    "              \n",
    "        for dictionary in initial_data:\n",
    "            \n",
    "            for key in dictionary:\n",
    "\n",
    "                if isinstance(dictionary[key], dict):\n",
    "                    if len(dictionary[key])>1:\n",
    "                        setattr(self, 'value', key)\n",
    "                        setattr(self, key, Tags(dictionary[key]))\n",
    "                    else:\n",
    "                        setattr(self, key, Tags(dictionary[key]))\n",
    "                else:\n",
    "                    setattr(self, key, dictionary[key])\n",
    "            \n",
    "    def __repr__(self):\n",
    "        return self.value.replace(\"__\",\":\")\n",
    "    \n",
    "    def __str__(self):\n",
    "        return self.value.replace(\"__\",\":\")"
   ]
  },
  {
   "cell_type": "code",
   "execution_count": 5,
   "id": "8e1fc77f",
   "metadata": {},
   "outputs": [],
   "source": [
    "\n",
    "file_name = 'data/kvs'\n",
    "\n",
    "if os.path.isfile(file_name):\n",
    "    # open a file, where you stored the pickled data\n",
    "    file = open(file_name, 'rb')\n",
    "\n",
    "    # dump information to that file\n",
    "    kvs = pickle.load(file)\n",
    "\n",
    "    # close the file\n",
    "    file.close()\n",
    "\n",
    "else:\n",
    "    kvs = osm.toolkit.get_osm_kvs()  \n",
    "        \n",
    "    # open a file, where you ant to store the data\n",
    "    file = open(file_name, 'wb')\n",
    "\n",
    "    # dump information to that file\n",
    "    pickle.dump(kvs, file)\n",
    "\n",
    "    # close the file\n",
    "    file.close()\n"
   ]
  },
  {
   "cell_type": "code",
   "execution_count": 6,
   "id": "22f758dd",
   "metadata": {},
   "outputs": [],
   "source": [
    "tags = Tags(kvs)"
   ]
  },
  {
   "cell_type": "code",
   "execution_count": 7,
   "id": "b5ca8237",
   "metadata": {},
   "outputs": [],
   "source": [
    "area_Guernsey = \"(49.4096, -2.6875,49.5194, -2.4901)\"\n",
    "area_Ealing = \"(51.487, -0.351, 51.5335, -0.2655)\"\n",
    "area_britishisles = \"(48.327, -12.063, 61.428, 1.78)\"\n",
    "area_Glasgow = \"(55.5683, -4.9507, 56.1318, -3.6639)\"\n",
    "area_Whitelee = \"(55.5, -4.4364, 55.7591, -4.1)\"\n",
    "area_Wales = \"(51.221, -5.559, 53.619, -2.845)\"\n",
    "area_Shetlands = \"(59.8034, -2.4527, 60.9331, -0.4257)\"\n",
    "area_London = \"(51.448, -0.2554, 51.6061, 0.0714)\"\n",
    "area_Nigeria = \"(2,2,15,15)\"\n",
    "# area_Nigeria = \"(9,4.6,10,4.8)\" # used for testing\n",
    "area_Nigeria = \"(-40,-20,20,55)\""
   ]
  },
  {
   "cell_type": "code",
   "execution_count": 8,
   "id": "48fdb027",
   "metadata": {},
   "outputs": [],
   "source": [
    "df_hydro = osm.toolkit.get_osm_data(key=tags.plant__source,tag=tags.plant__source.hydro,area=area_Nigeria,output=\"center\")\n"
   ]
  },
  {
   "cell_type": "code",
   "execution_count": 9,
   "metadata": {},
   "outputs": [],
   "source": [
    "df_hydro[\"x\"], df_hydro[\"y\"] = TRANSFORM_4326_TO_3857.transform(df_hydro[\"lat\"], df_hydro[\"lon\"])\n",
    "df_hydro[\"coordinates\"] = tuple(zip(df_hydro[\"lat\"], df_hydro[\"lon\"]))\n",
    "\n",
    "df_hydro = df_hydro.rename(columns=lambda x: re.sub(':','_',x))\n",
    "\n",
    "df_hydro_short = df_hydro[[\"x\",\"y\",\"name\",\"plant_output_electricity\",\"plant_method\",\"coordinates\",\"id\"]]\n",
    "\n",
    "source_hydro = ColumnDataSource(df_hydro_short)"
   ]
  },
  {
   "cell_type": "code",
   "execution_count": 10,
   "id": "971b8367",
   "metadata": {},
   "outputs": [],
   "source": [
    "# df_nigeria = osm.toolkit.get_osm_data_by_id(member_id=192787,obj_type=\"rel\",output=\"geom\")\n",
    "\n",
    "# df_nigeria_border = pd.DataFrame.from_records(df_nigeria['members'][0])\n"
   ]
  },
  {
   "cell_type": "code",
   "execution_count": 11,
   "metadata": {},
   "outputs": [],
   "source": [
    "# df_nigeria_border = df_nigeria_border[df_nigeria_border[\"type\"]==\"way\"]\n",
    "# df_nigeria_border = df_nigeria_border[df_nigeria_border[\"role\"]==\"outer\"]"
   ]
  },
  {
   "cell_type": "code",
   "execution_count": 12,
   "id": "783498c0",
   "metadata": {},
   "outputs": [],
   "source": [
    "# # create the border\n",
    "# xs = []\n",
    "# ys = []\n",
    "\n",
    "# for row in df_nigeria_border.iterrows():\n",
    "#     way=pd.DataFrame.from_records(row[1]['geometry'])\n",
    "       \n",
    "#     x,y = TRANSFORM_4326_TO_3857.transform(way['lat'],way['lon'])   \n",
    "    \n",
    "#     xs.append(x)\n",
    "#     ys.append(y)\n",
    "        \n",
    "# source_border = ColumnDataSource({'xs':xs, 'ys':ys}) "
   ]
  },
  {
   "cell_type": "code",
   "execution_count": 13,
   "metadata": {},
   "outputs": [],
   "source": [
    "# df_rivers = osm.toolkit.get_osm_data(key=tags.waterway,tag=tags.waterway.river,area=area_Nigeria,output=\"geom\",element=\"rel\")\n",
    "# "
   ]
  },
  {
   "cell_type": "code",
   "execution_count": 14,
   "metadata": {},
   "outputs": [],
   "source": [
    "# df_rivers = df_rivers[df_rivers[\"type\"]==\"waterway\"]\n",
    "# df_rivers = df_rivers.dropna(subset=['name'])\n",
    "\n",
    "# names = set(df_rivers['name'].dropna())\n",
    "\n",
    "# color_palette = list()\n",
    "# for i in range(len(names)):\n",
    "#     color_palette.append(Blues256[i%255])\n",
    "\n",
    "# color_mapping = dict(zip(names,color_palette))\n",
    "\n",
    "# df_rivers[\"color\"] = df_rivers['name'].map(color_mapping)\n",
    "\n"
   ]
  },
  {
   "cell_type": "code",
   "execution_count": 15,
   "metadata": {},
   "outputs": [],
   "source": [
    "# # create the rivers\n",
    "# xs = []\n",
    "# ys = []\n",
    "# names = []\n",
    "# colors = []\n",
    "\n",
    "# for cnt,row in df_rivers.iterrows():\n",
    "#     #print(\"====row\")\n",
    "#     #print(row)\n",
    "\n",
    "#     df_river_ways = pd.DataFrame.from_records(row['members'])\n",
    "\n",
    "#     for cnt2,way in df_river_ways.iterrows():\n",
    "#         #print(\"====way\")\n",
    "#         #print(way)\n",
    "#         if way[\"type\"]==\"way\":\n",
    "            \n",
    "#             if isinstance(way['geometry'], list):\n",
    "#                 geom=pd.DataFrame.from_records(way['geometry'])\n",
    "#             else:\n",
    "#                 geom=way['geometry']\n",
    "\n",
    "#             x,y = TRANSFORM_4326_TO_3857.transform(geom['lat'],geom['lon'])   \n",
    "        \n",
    "#             xs.append(x)\n",
    "#             ys.append(y)\n",
    "#             names.append(row[\"name\"])\n",
    "#             colors.append(row[\"color\"])\n",
    "        \n",
    "# source_rivers = ColumnDataSource({'xs':xs, 'ys':ys, \"name\":names, \"color\":colors}) "
   ]
  },
  {
   "cell_type": "code",
   "execution_count": 16,
   "id": "241b5b69",
   "metadata": {},
   "outputs": [
    {
     "data": {
      "text/html": [
       "<div style=\"display: table;\"><div style=\"display: table-row;\"><div style=\"display: table-cell;\"><b title=\"bokeh.models.renderers.tile_renderer.TileRenderer\">TileRenderer</b>(</div><div style=\"display: table-cell;\">id&nbsp;=&nbsp;'p1035', <span id=\"p1038\" style=\"cursor: pointer;\">&hellip;)</span></div></div><div class=\"p1037\" style=\"display: none;\"><div style=\"display: table-cell;\"></div><div style=\"display: table-cell;\">alpha&nbsp;=&nbsp;1.0,</div></div><div class=\"p1037\" style=\"display: none;\"><div style=\"display: table-cell;\"></div><div style=\"display: table-cell;\">coordinates&nbsp;=&nbsp;None,</div></div><div class=\"p1037\" style=\"display: none;\"><div style=\"display: table-cell;\"></div><div style=\"display: table-cell;\">group&nbsp;=&nbsp;None,</div></div><div class=\"p1037\" style=\"display: none;\"><div style=\"display: table-cell;\"></div><div style=\"display: table-cell;\">js_event_callbacks&nbsp;=&nbsp;{},</div></div><div class=\"p1037\" style=\"display: none;\"><div style=\"display: table-cell;\"></div><div style=\"display: table-cell;\">js_property_callbacks&nbsp;=&nbsp;{},</div></div><div class=\"p1037\" style=\"display: none;\"><div style=\"display: table-cell;\"></div><div style=\"display: table-cell;\">level&nbsp;=&nbsp;'image',</div></div><div class=\"p1037\" style=\"display: none;\"><div style=\"display: table-cell;\"></div><div style=\"display: table-cell;\">name&nbsp;=&nbsp;None,</div></div><div class=\"p1037\" style=\"display: none;\"><div style=\"display: table-cell;\"></div><div style=\"display: table-cell;\">propagate_hover&nbsp;=&nbsp;False,</div></div><div class=\"p1037\" style=\"display: none;\"><div style=\"display: table-cell;\"></div><div style=\"display: table-cell;\">render_parents&nbsp;=&nbsp;True,</div></div><div class=\"p1037\" style=\"display: none;\"><div style=\"display: table-cell;\"></div><div style=\"display: table-cell;\">smoothing&nbsp;=&nbsp;True,</div></div><div class=\"p1037\" style=\"display: none;\"><div style=\"display: table-cell;\"></div><div style=\"display: table-cell;\">subscribed_events&nbsp;=&nbsp;PropertyValueSet(),</div></div><div class=\"p1037\" style=\"display: none;\"><div style=\"display: table-cell;\"></div><div style=\"display: table-cell;\">syncable&nbsp;=&nbsp;True,</div></div><div class=\"p1037\" style=\"display: none;\"><div style=\"display: table-cell;\"></div><div style=\"display: table-cell;\">tags&nbsp;=&nbsp;[],</div></div><div class=\"p1037\" style=\"display: none;\"><div style=\"display: table-cell;\"></div><div style=\"display: table-cell;\">tile_source&nbsp;=&nbsp;WMTSTileSource(id='p1005', ...),</div></div><div class=\"p1037\" style=\"display: none;\"><div style=\"display: table-cell;\"></div><div style=\"display: table-cell;\">visible&nbsp;=&nbsp;True,</div></div><div class=\"p1037\" style=\"display: none;\"><div style=\"display: table-cell;\"></div><div style=\"display: table-cell;\">x_range_name&nbsp;=&nbsp;'default',</div></div><div class=\"p1037\" style=\"display: none;\"><div style=\"display: table-cell;\"></div><div style=\"display: table-cell;\">y_range_name&nbsp;=&nbsp;'default')</div></div></div>\n",
       "<script>\n",
       "(function() {\n",
       "  let expanded = false;\n",
       "  const ellipsis = document.getElementById(\"p1038\");\n",
       "  ellipsis.addEventListener(\"click\", function() {\n",
       "    const rows = document.getElementsByClassName(\"p1037\");\n",
       "    for (let i = 0; i < rows.length; i++) {\n",
       "      const el = rows[i];\n",
       "      el.style.display = expanded ? \"none\" : \"table-row\";\n",
       "    }\n",
       "    ellipsis.innerHTML = expanded ? \"&hellip;)\" : \"&lsaquo;&lsaquo;&lsaquo;\";\n",
       "    expanded = !expanded;\n",
       "  });\n",
       "})();\n",
       "</script>\n"
      ],
      "text/plain": [
       "TileRenderer(id='p1035', ...)"
      ]
     },
     "execution_count": 16,
     "metadata": {},
     "output_type": "execute_result"
    }
   ],
   "source": [
    "output_file(\"Africa_Hydro.html\")\n",
    "\n",
    "# See https://wiki.openstreetmap.org/wiki/Tile_servers for various tile services\n",
    "MAP_TILES = {\"OpenMap\": WMTSTileSource(url=\"http://c.tile.openstreetmap.org/{Z}/{X}/{Y}.png\"),\n",
    "         \"ESRI\": WMTSTileSource(url=\"https://server.arcgisonline.com/ArcGIS/rest/services/World_Imagery/MapServer/tile/{Z}/{Y}/{X}.jpg\"),\n",
    "         \"OpenTopoMap\": WMTSTileSource(url=\"https://tile.opentopomap.org/{Z}/{X}/{Y}.png\")}\n",
    "\n",
    "# Create a bokeh figure with tiles\n",
    "plot_map = figure(width=800, \n",
    "                  height=800,\n",
    "                  x_axis_type=\"mercator\", \n",
    "                  y_axis_type=\"mercator\",\n",
    "                )\n",
    "\n",
    "plot_map.add_tile(MAP_TILES['ESRI'])\n",
    "\n",
    "# tooltips = [(\"name\", \"@name\")]\n",
    "\n",
    "# border = plot_map.multi_line(xs='xs',\n",
    "#                            ys='ys',\n",
    "#                            source=source_border,\n",
    "#                            line_width=6,\n",
    "#                            line_color='yellow')\n",
    "    \n",
    "\n"
   ]
  },
  {
   "cell_type": "code",
   "execution_count": 17,
   "metadata": {},
   "outputs": [],
   "source": [
    "# render_rivers = plot_map.multi_line(xs='xs',\n",
    "#                  ys='ys',\n",
    "#                  source=source_rivers,\n",
    "#                  line_width=2,\n",
    "#                  line_color='color',\n",
    "#           )\n",
    "\n",
    "# hover_rivers = HoverTool(renderers=[render_rivers])\n",
    "# hover_rivers.tooltips = [(\"Name\", \"@name\")]\n",
    "# plot_map.add_tools(hover_rivers)"
   ]
  },
  {
   "cell_type": "code",
   "execution_count": 18,
   "metadata": {},
   "outputs": [],
   "source": [
    "render_hydro = plot_map.scatter(x=\"x\", y=\"y\", source=source_hydro, size=8, color=\"blue\")\n",
    "\n",
    "hover_hydro = HoverTool(renderers=[render_hydro])\n",
    "hover_hydro.tooltips = [(\"Name\", \"@name\"),(\"Capacity\", \"@plant_output_electricity\"),(\"Type\", \"@plant_method\"),(\"Location\", \"@coordinates\")]\n",
    "plot_map.add_tools(hover_hydro)\n",
    "\n",
    "render_hydro.selection_glyph = None\n",
    "render_hydro.nonselection_glyph = None\n",
    "\n",
    "url = \"https://www.openstreetmap.org/way/@id/\"\n",
    "render_hydro.selection_glyph = None\n",
    "render_hydro.nonselection_glyph = None\n",
    "taptool_hydro = TapTool(renderers=[render_hydro])\n",
    "taptool_hydro.callback = OpenURL(url=url)\n",
    "plot_map.add_tools(taptool_hydro)"
   ]
  },
  {
   "cell_type": "code",
   "execution_count": 19,
   "metadata": {},
   "outputs": [],
   "source": [
    "# area_Nigeria"
   ]
  },
  {
   "cell_type": "code",
   "execution_count": 20,
   "metadata": {},
   "outputs": [],
   "source": [
    "from bokeh.models import Range1d\n",
    "\n",
    "x,y = TRANSFORM_4326_TO_3857.transform([-40,20],[-20,55])\n",
    "\n",
    "# set a range using a Range1d\n",
    "plot_map.x_range = Range1d(x[0], x[1])\n",
    "plot_map.y_range = Range1d(y[0], y[1])\n",
    "\n",
    "plot_map.title.text = \"The 301 hydro power plants in sub-saharan Africa extracted from OpenStreetMap\""
   ]
  },
  {
   "cell_type": "code",
   "execution_count": 21,
   "id": "0220b704",
   "metadata": {},
   "outputs": [
    {
     "data": {
      "text/html": [
       "\n",
       "  <div id=\"b741101b-4808-41d1-a535-2ceb2edc4dab\" data-root-id=\"p1007\" style=\"display: contents;\"></div>\n"
      ]
     },
     "metadata": {},
     "output_type": "display_data"
    },
    {
     "data": {
      "application/javascript": "(function(root) {\n  function embed_document(root) {\n  const docs_json = {\"d5c72e4c-5e82-4521-bd2a-a76141767f3a\":{\"version\":\"3.3.0\",\"title\":\"Bokeh Application\",\"roots\":[{\"type\":\"object\",\"name\":\"Figure\",\"id\":\"p1007\",\"attributes\":{\"width\":800,\"height\":800,\"x_range\":{\"type\":\"object\",\"name\":\"Range1d\",\"id\":\"p1051\",\"attributes\":{\"start\":-2226389.8158654715,\"end\":6122571.993630046}},\"y_range\":{\"type\":\"object\",\"name\":\"Range1d\",\"id\":\"p1052\",\"attributes\":{\"start\":-4865942.279503175,\"end\":2273030.9269876895}},\"x_scale\":{\"type\":\"object\",\"name\":\"LinearScale\",\"id\":\"p1016\"},\"y_scale\":{\"type\":\"object\",\"name\":\"LinearScale\",\"id\":\"p1017\"},\"title\":{\"type\":\"object\",\"name\":\"Title\",\"id\":\"p1014\",\"attributes\":{\"text\":\"The 301 hydro power plants in sub-saharan Africa extracted from OpenStreetMap\"}},\"renderers\":[{\"type\":\"object\",\"name\":\"TileRenderer\",\"id\":\"p1035\",\"attributes\":{\"tile_source\":{\"type\":\"object\",\"name\":\"WMTSTileSource\",\"id\":\"p1005\",\"attributes\":{\"url\":\"https://server.arcgisonline.com/ArcGIS/rest/services/World_Imagery/MapServer/tile/{Z}/{Y}/{X}.jpg\"}}}},{\"type\":\"object\",\"name\":\"GlyphRenderer\",\"id\":\"p1045\",\"attributes\":{\"data_source\":{\"type\":\"object\",\"name\":\"ColumnDataSource\",\"id\":\"p1001\",\"attributes\":{\"selected\":{\"type\":\"object\",\"name\":\"Selection\",\"id\":\"p1002\",\"attributes\":{\"indices\":[],\"line_indices\":[]}},\"selection_policy\":{\"type\":\"object\",\"name\":\"UnionRenderers\",\"id\":\"p1003\"},\"data\":{\"type\":\"map\",\"entries\":[[\"index\",{\"type\":\"ndarray\",\"array\":{\"type\":\"bytes\",\"data\":\"AAAAAAEAAAACAAAAAwAAAAQAAAAFAAAABgAAAAcAAAAIAAAACQAAAAoAAAALAAAADAAAAA0AAAAOAAAADwAAABAAAAARAAAAEgAAABMAAAAUAAAAFQAAABYAAAAXAAAAGAAAABkAAAAaAAAAGwAAABwAAAAdAAAAHgAAAB8AAAAgAAAAIQAAACIAAAAjAAAAJAAAACUAAAAmAAAAJwAAACgAAAApAAAAKgAAACsAAAAsAAAALQAAAC4AAAAvAAAAMAAAADEAAAAyAAAAMwAAADQAAAA1AAAANgAAADcAAAA4AAAAOQAAADoAAAA7AAAAPAAAAD0AAAA+AAAAPwAAAEAAAABBAAAAQgAAAEMAAABEAAAARQAAAEYAAABHAAAASAAAAEkAAABKAAAASwAAAEwAAABNAAAATgAAAE8AAABQAAAAUQAAAFIAAABTAAAAVAAAAFUAAABWAAAAVwAAAFgAAABZAAAAWgAAAFsAAABcAAAAXQAAAF4AAABfAAAAYAAAAGEAAABiAAAAYwAAAGQAAABlAAAAZgAAAGcAAABoAAAAaQAAAGoAAABrAAAAbAAAAG0AAABuAAAAbwAAAHAAAABxAAAAcgAAAHMAAAB0AAAAdQAAAHYAAAB3AAAAeAAAAHkAAAB6AAAAewAAAHwAAAB9AAAAfgAAAH8AAACAAAAAgQAAAIIAAACDAAAAhAAAAIUAAACGAAAAhwAAAIgAAACJAAAAigAAAIsAAACMAAAAjQAAAI4AAACPAAAAkAAAAJEAAACSAAAAkwAAAJQAAACVAAAAlgAAAJcAAACYAAAAmQAAAJoAAACbAAAAnAAAAJ0AAACeAAAAnwAAAKAAAAChAAAAogAAAKMAAACkAAAApQAAAKYAAACnAAAAqAAAAKkAAACqAAAAqwAAAKwAAACtAAAArgAAAK8AAACwAAAAsQAAALIAAACzAAAAtAAAALUAAAC2AAAAtwAAALgAAAC5AAAAugAAALsAAAC8AAAAvQAAAL4AAAC/AAAAwAAAAMEAAADCAAAAwwAAAMQAAADFAAAAxgAAAMcAAADIAAAAyQAAAMoAAADLAAAAzAAAAM0AAADOAAAAzwAAANAAAADRAAAA0gAAANMAAADUAAAA1QAAANYAAADXAAAA2AAAANkAAADaAAAA2wAAANwAAADdAAAA3gAAAN8AAADgAAAA4QAAAOIAAADjAAAA5AAAAOUAAADmAAAA5wAAAOgAAADpAAAA6gAAAOsAAADsAAAA7QAAAO4AAADvAAAA8AAAAPEAAADyAAAA8wAAAPQAAAD1AAAA9gAAAPcAAAD4AAAA+QAAAPoAAAD7AAAA/AAAAP0AAAD+AAAA/wAAAAABAAABAQAAAgEAAAMBAAAEAQAABQEAAAYBAAAHAQAACAEAAAkBAAAKAQAACwEAAAwBAAANAQAADgEAAA8BAAAQAQAAEQEAABIBAAATAQAAFAEAABUBAAAWAQAAFwEAABgBAAAZAQAAGgEAABsBAAAcAQAAHQEAAB4BAAAfAQAAIAEAACEBAAAiAQAAIwEAACQBAAAlAQAAJgEAACcBAAAoAQAAKQEAACoBAAArAQAALAEAAA==\"},\"shape\":[301],\"dtype\":\"int32\",\"order\":\"little\"}],[\"x\",{\"type\":\"ndarray\",\"array\":{\"type\":\"bytes\",\"data\":\"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\"},\"shape\":[301],\"dtype\":\"float64\",\"order\":\"little\"}],[\"y\",{\"type\":\"ndarray\",\"array\":{\"type\":\"bytes\",\"data\":\"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\"},\"shape\":[301],\"dtype\":\"float64\",\"order\":\"little\"}],[\"name\",{\"type\":\"ndarray\",\"array\":[\"Central hidroelectrica de Cambambe I\",\"Gwere-Luzira Power Station\",\"Mini Centrale Hydro de Mbakaou\",{\"type\":\"number\",\"value\":\"nan\"},\"Central hidroel\\u00e9ctrica de Corumana\",\"Victoria Falls Station C\",\"Inga II\",\"Centrale hydro\\u00e9lectrique du Nyankere\",\"Jebel Aulia Dam\",\"Kiira Power Station\",\"Centrale hydro\\u00e9lectrique de la Tshopo\",\"Centrale hydro\\u00e9lectrique de Ban\\u00e9ah\",\"Centrale hydro\\u00e9lectrique de Donk\\u00e9a\",\"Centrale de Tsiazompaniry\",\"Centrale hydro\\u00e9lectrique de Kinkon\",\"Nyagak Microhydropower\",\"Centrale du barrage de la M\\u2019Bali\",\"Rusumo Hydroelectric Power Station\",\"Centrale hydro\\u00e9lectrique Rusizi I\",\"Victoria Falls Station A\",\"Centrale hydro\\u00e9lectrique Rusizi II\",\"Central Hidroel\\u00e9trica de Capanda\",\"Central Hidroel\\u00e9trica de Mabubas\",\"Centro de Produ\\u00e7\\u00e3o de Energia do Bi\\u00f3pio\",\"Centrale Hydro\\u00e9lectrique de Sahanivotry\",\"Centrale hydro\\u00e9lectrique de Garafiri\",\"Gitaru Hydro Power Station\",\"Masinga Power Station\",\"Sosiani Power station\",\"Gogo Power Station\",\"Mesco Power Station\",\"Sagana Falls Power Station\",\"Tana power station\",\"Wanjii power station\",\"Ndula\",\"Merowe-Hamdab High Dam Hydroelectric power plant\",\"Centrale de Boali 1\",\"Bumbuna Dam Hydroelectric Power Station\",\"Inga I\",\"Tis Abay I Hydroelectric Plant\",\"Tis Abay II Hydroelectric Plant\",\"Centrale de Boali 2\",\"Awash II Hydroelectric Power Plant\",\"Awash III Hydroelectric Power Plant\",\"Koka Hydroelectric Power Plant\",\"Centrale hydro\\u00e9lectrique de Nzilo\",\"Centrale hydro\\u00e9lectrique de Nseke\",\"Centrale hydro\\u00e9lectrique de Koni\",\"Maguga Power Station\",\"Centrale Hydraulique de Kpim\\u00e9\",\"Centrale hydro\\u00e9lectrique de Bagr\\u00e9\",\"Centrale hydro\\u00e9lectrique de S\\u00e9lingu\\u00e9\",\"Centrale hydro\\u00e9lectrique de Kompienga\",\"Colleywobbles\",\"Maguduza Hydroelectric Power Plant\",\"Mulungushi Power Station\",\"Lunsemfwa Power Station\",\"Mubuku III Power Station\",\"First Falls\",\"Second Falls\",\"Centrale hydro\\u00e9lectrique de Lagdo\",\"Firestone hydroelectric power station\",\"El Girba\",\"Centrale hydro\\u00e9lectrique de Taabo\",\"Punia Hydroelectric Powerstation\",\"Kihansi Hydro Power Plant\",\"Central Hidroel\\u00e9trica do Gove\",\"Kafue Gorge Upper Power Station\",\"Kapichira Hydroelectric Power Station\",\"Tedzani III Hydroelectric Plant\",\"Kpong Power Station\",\"Lutshurukuru Hydroelectric Powerstation\",\"Hydro Power Plant LAC\",\"Centrale hydro\\u00e9lectrique Gikonge\",\"Centrale hydro\\u00e9lectrique Rushanga\",\"Mepibua I Micro-hydropower Plant\",\"Roseires Dam Power Station\",\"Centrale de la Mandraka\",\"Zengamina Hydro Station\",\"Musonda Falls I\",\"Centrale hydro\\u00e9lectrique de Song Loulou\",\"Mubuku I Power Station\",\"Centrale hydro\\u00e9lectrique de Grandes Chutes\",\"Lusiwasi Lower Hydroelectric Power Station\",\"Belverdere Power Station\",\"Centrale hydro\\u00e9lectrique de F\\u00e9lou\",\"Hale Hydroelectric Power Station\",\"Tekez\\u00e9 Dam Power Station\",\"Sondu Miriu Hydroelectric Power Station\",\"Tosamaganga Hydro Power Plant\",\"Bujagali Power Station\",\"Aba Samuel Power Plant\",\"Centrale hydro\\u00e9lectrique de Mwadingusha\",\"Kalule Hydroelectric Powerstation\",\"Lubudi Hydroelectric Powerstation\",\"Central hidroel\\u00e9ctrica de Mavuzi\",\"Fincha Hydroelectric Power Station\",\"Gilgel Gibe III Power Station\",\"Gilgel Gibe II\",\"Melka Wakena Hydroelectric Power Station\",\"Bui Hydropower Plant\",\"Central hidroel\\u00e9ctrica de Chicamba\",\"Gariep Hydroelectric Power Station\",\"Palmiet Pumped Storage Scheme\",\"Steenbras Hydroelectric Power Station\",\"Ezulwini Hydropower Station\",\"Proposed Tubatse Pumped Storage Scheme\",\"Sol Plaatje Power Station\",\"Merino Power Station\",\"Sang'oro Hydroelectric Power Station\",\"Turkwel Hydro Power Station\",\"Kariba South Power Station\",\"Kariba North Bank Power Station\",\"Drakensberg Pumped Storage Scheme\",\"Centrale hydro\\u00e9lectrique de Kossou\",\"Hydro-turbine\",\"Mawengi Hydropower Plant\",\"Barrage hydro\\u00e9lectrique d'\\u00c9d\\u00e9a\",\"Itezhi-Tezhi Hydroelectric Station\",\"Nalubaale Power Station\",\"Centrale hydro\\u00e9lectrique de Sotuba\",{\"type\":\"number\",\"value\":\"nan\"},\"Lugarawa Old Hydropower Plant\",\"Catumbela (Defunct)\",\"Centrale hydro\\u00e9lectrique de Buyo\",\"Mpanga Hydroelectric Power Station\",\"Central hidroel\\u00e9ctrica da Matala\",\"Ruacana hydropower plant\",\"Centrale de Maroantsetra\",\"Antiga Central Hidroel\\u00e9trica do Luachimo\",\"Uwemba Hydro Power Plant\",\"Chishimba Hydroelectric Power Station\",\"Shiwa Ng'andu Power Station\",\"Mwenga Hydroelectric Power Plant\",\"Kiambere Hydro Power Station\",\"Centrale d'Namorona\",\"Nyumba ya Mungu Power station\",\"Tagabi 1 Hydro Power Plant\",\"Centrale hydro\\u00e9lectrique de Liouesso\",\"Centrale hydro\\u00e9lectrique de Kingu\\u00e9l\\u00e9\",\"Centrale \\u00e9lectrique de Tchimb\\u00e9l\\u00e9\",\"Shiroro Hydroelectric Power Station\",\"Kafue Gorge Lower Power Plant\",\"Ntaruka Hydro Power Station\",\"Kabalega Power Station\",\"Central Hidroel\\u00e9ctrica de Djibloho\",\"Central Hidroel\\u00e9ctrica de Sendje\",\"Jebba Hydroelectric Power Station\",\"Pungwe B Hydroelectric Power Station\",\"Ncora Hydro Power Stations\",\"Centrale hydro\\u00e9lectrique d'Imboulou\",\"Centrale hydro\\u00e9lectrique de Moukoukoulou\",\"Centrale hydro\\u00e9lectrique de Djou\\u00e9\",{\"type\":\"number\",\"value\":\"nan\"},{\"type\":\"number\",\"value\":\"nan\"},{\"type\":\"number\",\"value\":\"nan\"},\"Central hidroelectrica de Cambambe II\",\"Central hidroelectrica de La\\u00faca\",{\"type\":\"number\",\"value\":\"nan\"},\"Central Hidroel\\u00e9trica de Lomaum\",\"Central Hidroel\\u00e9trica Chicapa I\",\"Calueque Hydropower Plant\",\"Wovwe Hydroelectric Power Station\",\"Tedzani I and II Hydroelectric Plants\",\"Nkula B Hydroelectric Plant\",\"Nkula A Hydroelectric Plant\",\"New Pangani Falls Hydroelectric Power Station\",\"Mtera Hydro Power Plant\",\"Kamburu Hydro Power Station\",\"Bugoye Power Station\",\"Rwimi Power Station\",\"Vanderkloof Hydroelectric Power Station\",\"Centrale hydro\\u00e9lectrique de Kal\\u00e9ta\",\"Mount Coffee Hydropower Plant\",\"Rugezi Hydro Power Plant\",\"Mukungwa II Hydro Power Plant\",\"Mukungwa Hydro Power Plant\",\"Rukarara I Hydro Power Plant\",\"Nyirabuhombohombo Hydro Power Plant\",\"Keya Hydro Power Plant\",{\"type\":\"number\",\"value\":\"nan\"},{\"type\":\"number\",\"value\":\"nan\"},\"Cyimbili Hydro Power Plant\",\"Gashashi Hydro Power Plant\",\"Nkora Hydro Power Plant\",\"Gaseke Hydro Power Plant\",\"Giciye II Hydro Power Plant\",\"Giciye I Hydro Power Plant\",\"Nyabarongo Hydro Power Plant\",\"Centrale d'Andekaleka\",\"Centrale d'Antelomita II\",\"Centrale d'Antelomita I\",\"Centrale Hydro\\u00e9lectrique de Manandona\",\"Centrale de Volobe\",\"Buhinda Micro-Hydro Power Plant\",\"Muvumbe\",\"Mini-H\\u00eddrica\",{\"type\":\"number\",\"value\":\"nan\"},{\"type\":\"number\",\"value\":\"nan\"},\"Muela Power Station\",{\"type\":\"number\",\"value\":\"nan\"},\"Neusberg Hydroelectric Power Station\",\"Akosombo Hydroelectric Power Plant\",\"Gilgel Gibe I Power Station\",{\"type\":\"number\",\"value\":\"nan\"},{\"type\":\"number\",\"value\":\"nan\"},\"Dadin Kowa Hydro Power Plant\",\"Kainji Hydro Power Plant\",\"Centrale hydro\\u00e9lectrique de Nangb\\u00e9to\",\"Centrale hydro\\u00e9lectrique Ayam\\u00e9 2\",\"Centrale hydro\\u00e9lectrique de Fay\\u00e9\",\"Centrale hydro\\u00e9lectrique Ayam\\u00e9 1\",\"Centrale hydro\\u00e9lectrique de Soubr\\u00e9\",\"Centrale hydro\\u00e9lectrique de Manantali\",\"Centrale hydro\\u00e9lectrique de Gouina\",\"Centrale hydro\\u00e9lectrique de Souapiti\",\"Centrale hydro\\u00e9lectrique de Memve'ele\",\"Amerti Neshi power plant\",\"Kindaruma Hydro Power Station\",\"Karuma Hydro Power Station\",\"Nshili 1 Hydro Power Plant\",\"Rukarara II Hydro Power Plant\",\"Centrale hydro\\u00e9lectrique Nyemanga\",\"Centrale hydro\\u00e9lectrique de Rwegura\",\"Centrale hydro\\u00e9lectrique de Matebe\",{\"type\":\"number\",\"value\":\"nan\"},\"Centrale hydro\\u00e9lectrique de Lungudi\",\"Centrale hydro\\u00e9lectrique de Sanga\",\"Centrale hydro\\u00e9lectrique de Zongo II\",\"Centrale hydro\\u00e9lectrique de Zongo I\",\"Ingula Pumped Storage Scheme\",\"Cahora Bassa Hydroelectric Station\",\"Old Lunzua Hydroelectric Power Station\",\"Lunzua Hydroelectric Power Station\",\"Tedzani IV Hydroelectric Plant\",\"Julius Nyerere Hydropower Station\",\"Lubilia\",{\"type\":\"number\",\"value\":\"nan\"},\"Metumi\",\"Lusiwasi Upper Hydroelectric Power Station\",\"Achwa 2 Hydropower Station\",\"Stortemelk Hydroelectric Power Plant\",\"Nyamhingura Hydroelectric Power Station\",\"Pungwe C Hydroelectric Power Station\",\"Ndugutu\",\"Gribo-Popoli Hydroelectric Power Station\",{\"type\":\"number\",\"value\":\"nan\"},\"Mini-H\\u00eddrica do Cuvango\",\"Friedenheim Hydroelectric Power Station\",\"Bakenkop Hydroelectric Powerstation\",\"Piana Mwanga Hydroelectric Powerstation\",\"Lydenburg Hydroelectric Powerstation\",\"Middle Kruisvallei Hydroelectric Power Plant\",\"Lower Kruisvallei Hydroelectric Power Plant\",\"Edwaleni Hydroelectric Power Station\",\"Chiumbe Dala Hydroelectric Powerstation\",\"Musando Falls II\",\"Pungwe A Hydroelectric Power Station\",\"Duru Hydroelectric Power Station\",\"Hauna Hydroelectric Power Station\",\"Tsanga B\",\"L'Ormarins Hydroelectrical Power Station 1\",\"L'Ormarins Hydroelectric Power Station II\",\"Victoria Falls Station B (Underground)\",\"Kilubi Hydroelectic Power Station\",\"Kupinga Hydroelectric Power Station\",\"Genale Dawa III Hydroelectric Power Plant\",\"Kasanjinku\",\"Isimba Hydropower Station\",\"Nyamagasani II Hydroelectric Power Station\",\"Nyamagasani I Hydroelectric Power Station\",\"Achwa 1 Hydropower Station\",\"Centrale hydro\\u00e9lectrique de Busanga\",\"Ruo\\u2013Ndiza Hydroelectric Power Station\",\"Kidatu Hydro Power Plant\",\"Centrale Hydro\\u00e9lectrique de Sambangalou\",\"Rwanza\",\"Central Hidroel\\u00e9trica do Luachimo\",\"Nyamwamba II Hydroelectric Power Station\",\"Nyamwamba I Hydroelectric Power Station\",\"Mahoma Hydro Plant\",\"Kyambura\",\"Siti I\",\"Siti II\",\"Moshishito - Rukarara V\",\"Tinkisso Hydropower Plant\",\"Ruzibazi\",\"Kerenga 1 & 2\",\"Kapsongoi\",\"Jamji 1\",\"Jamji 2\",\"Imenti Tea\",\"Chania\",\"Gura\",\"Barrage hydro \\u00e9lectrique de Tshiala II\",\"Centrale hydro\\u00e9lectrique de Kakobola\",\"\\u1273\\u120b\\u1241 \\u12e8\\u12a2\\u1275\\u12ee\\u1335\\u12eb \\u1215\\u12f3\\u1234 \\u130d\\u12f5\\u1265\",\"Centrale hydro\\u00e9lectrique de M\\u00e9kin\",\"Microcentrale Katwakirundi\",\"Usine hydro\\u00e9lectrique de Bendera\",\"Barrage de Mobayi-Mbongo\"],\"shape\":[301],\"dtype\":\"object\",\"order\":\"little\"}],[\"plant_output_electricity\",{\"type\":\"ndarray\",\"array\":[\"260 MW\",\"0.5 kW\",\"1.4 MW\",\"900 MW\",\"16.6 MW\",\"40 MW\",\"1424 MW\",\"8 MW\",\"30.4 MW\",\"200 MW\",\"19.65 MW\",\"5 MW\",\"15 MW\",\"5.2 MW\",\"3.2 MW\",\"3.5 MW\",\"10 MW\",\"80 MW\",\"29.8 MW\",\"8 MW\",\"43.8 MW\",\"520 MW\",\"26.8 MW\",\"15 MW\",\"16.5 MW\",\"75 MW\",\"225 MW\",\"41.2 MW\",\"0.4 MW\",\"2 MW\",\"0.43 MW\",\"1.5 MW\",\"25.7 MW\",\"7.4 MW\",\"2 MW\",\"1250 MW\",\"8.75 MW\",\"50 MW\",\"351 MW\",\"11.4 MW\",\"73 MW\",\"9.9 MW\",\"32 MW\",\"32 MW\",\"43 MW\",\"108 MW\",\"260 MW\",\"42 MW\",\"19 MW\",\"1.5 MW\",\"16 MW\",\"46 MW\",\"14 MW\",\"42 MW\",\"yes\",\"32 MW\",\"24 MW\",\"9.9 MW\",\"6 MW\",\"11 MW\",\"72 MW\",\"4.8 MW\",\"10 MW\",\"210 MW\",\"2 MW\",\"180 MW\",\"60 MW\",\"990MW\",\"129.6 MW\",\"62 MW\",\"160 MW\",\"5.6MW\",{\"type\":\"number\",\"value\":\"nan\"},\"1 MW\",\"1.5 MW\",\"25 kW\",\"250 MW\",\"24 MW\",\"0.7 MW\",\"5 MW\",\"384 MW\",\"5 MW\",\"27 MW\",\"86 MW\",\"yes\",\"63 MW\",\"21 MW\",\"300 MW\",\"60.7 MW\",\"1.22 MW\",\"250 MW\",\"6.6 MW\",\"68 MW\",\"2 MW\",\"1 MW\",\"52 MW\",\"134 MW\",\"1870 MW\",\"420 MW\",\"153 MW\",\"400 MW\",\"44 MW\",\"360 MW\",\"400 MW\",\"180 MW\",\"20 MW\",\"1500 MW\",\"3 MW\",\"4 MW\",\"21.2 MW\",\"106 MW\",\"1050 MW\",\"1080 MW\",\"1000 MW\",\"174 MW\",\"yes\",\"300 kW\",\"276 MW\",\"120 MW\",\"180 MW\",\"5.7 MW\",{\"type\":\"number\",\"value\":\"nan\"},\"150 kV\",\"yes\",\"165 MW\",\"18 MW\",\"40.8 MW\",\"330 MW\",\"2.5 MW\",\"8 MW\",\"0.84 MW\",\"6.2 MW\",\"1 MW\",\"4 MW\",\"168 MW\",\"5.6 MW\",\"8 MW\",\"0.852MW\",\"19.2 MW\",\"57.6 MW\",\"68.4 MW\",\"600 MW\",\"750 MW\",\"11.25 MW\",\"9 MW\",\"120 MW\",\"200 MW\",\"578.4 MW\",\"15 MW\",\"2.1MW\",\"120 MW\",\"74 MW\",\"15 MW\",{\"type\":\"number\",\"value\":\"nan\"},\"160 MW\",{\"type\":\"number\",\"value\":\"nan\"},\"700 MW\",\"2069.5 MW\",{\"type\":\"number\",\"value\":\"nan\"},\"50 MW\",\"16 MW\",\"14 MW\",\"4.35 MW\",\"40 MW\",\"100 MW\",\"35.1 MW\",\"68 MW\",\"80 MW\",\"94.2 MW\",\"13 MW\",\"5.5MW\",\"240 MW\",\"240 MW\",\"88 MW\",\"2.2 MW\",\"2.5 MW\",\"12 MW\",\"9.5 MW\",\"500 kW\",\"2.2 MW\",{\"type\":\"number\",\"value\":\"nan\"},{\"type\":\"number\",\"value\":\"nan\"},\"0.3 MW\",\"0.2 MW\",\"0.68 MW\",\"0.5 MW\",\"4 MW\",\"4 MW\",\"28 MW\",\"91 MW\",\"4.1 MW\",\"4.1 MW\",\"1.6 MW\",\"6.8 MW\",\"yes\",\"6.5MW\",\"1.2 MW\",\"yes\",\"320 MW\",\"72 MW\",{\"type\":\"number\",\"value\":\"nan\"},\"10 MW\",\"1020 MW\",\"184 MW\",{\"type\":\"number\",\"value\":\"nan\"},{\"type\":\"number\",\"value\":\"nan\"},\"39 MW\",\"760 MW\",\"65.6 MW\",\"30 MW\",\"5 MW\",\"20 MW\",\"275 MW\",\"200 MW\",\"140 MW\",\"450 MW\",\"211 MW\",\"95 MW\",\"72 MW\",\"600 MW\",\"0.4 MW\",\"2.2 MW\",\"2.8 MW\",\"18 MW\",\"13.8 MW\",{\"type\":\"number\",\"value\":\"nan\"},\"1.5 MW\",\"11 MW\",\"150 MW\",\"75 MW\",\"1332 MW\",\"2075 MW\",\"0.75MW\",\"14.8 MW\",\"19.1 MW\",\"2115 MW\",\"5.4MW\",\"420MW\",\"5.6MW\",\"15 MW\",\"41 MW\",\"4.5 MW\",\"1.1 MW\",\"4.3 MW\",\"5.9 MW\",\"112 MW\",{\"type\":\"number\",\"value\":\"nan\"},\"2 MW\",\"2.5 MW\",\"0.8 MW\",\"54 MW\",\"2.1 MW\",\"2.81\",\"1.81MW\",\"15 MW\",\"26 MW\",\"5 MW\",\"2.1MW\",\"2.2 MW\",\"2.3MW\",\"2.8 MW\",\"2.3\",\"yes\",\"60 MW\",\"9.9 MW\",\"1.6 MW\",\"254 MW\",\"590kW\",\"183 MW\",\"6 MW\",\"15 MW\",\"42 MW\",\"240 MW\",\"8.2 MW\",\"204 MW\",\"128 MW\",\"2.6MW\",\"34 MW\",\"7.8MW\",\"7.8MW\",\"2.7Mw\",\"7.6MW\",\"5 MW\",\"16.5MW\",\"5 MW\",\"yes\",\"15 MW\",\"470kW\",\"2.4MW\",\"313kw\",\"313kW\",\"0.9MW\",\"1MW\",\"5.8MW\",\"6 MW\",\"9 MW\",\"750 MW\",\"15 MW\",{\"type\":\"number\",\"value\":\"nan\"},\"17.2 MW\",\"11.37 MW\"],\"shape\":[301],\"dtype\":\"object\",\"order\":\"little\"}],[\"plant_method\",{\"type\":\"ndarray\",\"array\":[\"water-storage\",\"run-of-the-river\",{\"type\":\"number\",\"value\":\"nan\"},{\"type\":\"number\",\"value\":\"nan\"},\"water-storage\",\"run-of-the-river\",\"water-storage\",{\"type\":\"number\",\"value\":\"nan\"},{\"type\":\"number\",\"value\":\"nan\"},\"water-storage\",\"run-of-the-river\",\"water-storage\",\"water-storage\",\"water-storage\",{\"type\":\"number\",\"value\":\"nan\"},\"water-storage\",{\"type\":\"number\",\"value\":\"nan\"},{\"type\":\"number\",\"value\":\"nan\"},{\"type\":\"number\",\"value\":\"nan\"},\"run-of-the-river\",{\"type\":\"number\",\"value\":\"nan\"},\"water-storage\",\"water-storage\",\"run-of-the-river\",\"run-of-the-river\",\"water-storage\",\"run-of-the-river\",\"water-storage\",\"run-of-the-river\",\"run-of-the-river\",\"run-of-the-river\",\"run-of-the-river\",\"run-of-the-river\",\"run-of-the-river\",\"run-of-the-river\",{\"type\":\"number\",\"value\":\"nan\"},\"run-of-the-river\",{\"type\":\"number\",\"value\":\"nan\"},\"water-storage\",\"run-of-the-river\",\"run-of-the-river\",\"run-of-the-river\",\"run-of-the-river\",\"run-of-the-river\",\"water-storage\",\"water-storage\",\"water-storage\",{\"type\":\"number\",\"value\":\"nan\"},\"run-of-the-river\",\"water-storage\",{\"type\":\"number\",\"value\":\"nan\"},\"water-storage\",{\"type\":\"number\",\"value\":\"nan\"},\"run-of-the-river\",{\"type\":\"number\",\"value\":\"nan\"},{\"type\":\"number\",\"value\":\"nan\"},{\"type\":\"number\",\"value\":\"nan\"},\"water-storage\",\"run-of-the-river\",\"run-of-the-river\",\"water-storage\",\"run-of-the-river\",{\"type\":\"number\",\"value\":\"nan\"},\"water-storage\",\"water-storage\",\"run-of-the-river\",\"water-storage\",\"water-storage\",\"water-storage\",\"run-of-the-river\",\"water-storage\",{\"type\":\"number\",\"value\":\"nan\"},\"run-of-the-river\",\"run-of-the-river\",\"run-of-the-river\",\"run-of-the-river\",\"water-storage\",{\"type\":\"number\",\"value\":\"nan\"},\"run-of-the-river\",\"water-storage\",\"run-of-the-river\",\"run-of-the-river\",\"water-storage\",\"run-of-the-river\",\"run-of-the-river\",\"run-of-the-river\",\"run-of-the-river\",\"water-storage\",\"run-of-the-river\",\"run-of-the-river\",\"run-of-the-river\",\"water-storage\",{\"type\":\"number\",\"value\":\"nan\"},\"run-of-the-river\",\"run-of-the-river\",\"run-of-the-river\",\"water-storage\",\"water-storage\",{\"type\":\"number\",\"value\":\"nan\"},{\"type\":\"number\",\"value\":\"nan\"},\"water-storage\",\"water-storage\",\"water-storage\",\"water-pumped-storage\",\"water-pumped-storage\",\"run-of-the-river\",\"water-pumped-storage\",\"run-of-the-river\",\"run-of-the-river\",\"run-of-the-river\",\"water-storage\",\"water-storage\",\"water-storage\",{\"type\":\"number\",\"value\":\"nan\"},\"water-storage\",\"run-of-the-river\",{\"type\":\"number\",\"value\":\"nan\"},\"run-of-the-river\",\"water-storage\",\"water-storage\",\"run-of-the-river\",\"run-of-the-river\",{\"type\":\"number\",\"value\":\"nan\"},{\"type\":\"number\",\"value\":\"nan\"},\"water-storage\",{\"type\":\"number\",\"value\":\"nan\"},\"run-of-the-river\",\"water-storage\",\"run-of-the-river\",\"run-of-the-river\",\"run-of-the-river\",{\"type\":\"number\",\"value\":\"nan\"},{\"type\":\"number\",\"value\":\"nan\"},\"run-of-the-river\",\"water-storage\",\"run-of-the-river\",\"water-storage\",\"run-of-the-river\",{\"type\":\"number\",\"value\":\"nan\"},\"run-of-the-river\",\"water-storage\",{\"type\":\"number\",\"value\":\"nan\"},{\"type\":\"number\",\"value\":\"nan\"},{\"type\":\"number\",\"value\":\"nan\"},\"run-of-the-river\",\"water-storage\",{\"type\":\"number\",\"value\":\"nan\"},\"run-of-the-river\",\"run-of-the-river\",\"water-storage\",{\"type\":\"number\",\"value\":\"nan\"},\"run-of-the-river\",\"run-of-the-river\",\"run-of-the-river\",\"water-storage\",\"run-of-the-river\",\"water-storage\",\"run-of-the-river\",\"run-of-the-river\",\"run-of-the-river\",\"run-of-the-river\",\"run-of-the-river\",\"run-of-the-river\",\"run-of-the-river\",\"run-of-the-river\",\"run-of-the-river\",\"water-storage\",\"water-storage\",\"run-of-the-river\",\"run-of-the-river\",\"run-of-the-river\",\"water-storage\",\"run-of-the-river\",\"run-of-the-river\",\"run-of-the-river\",\"run-of-the-river\",{\"type\":\"number\",\"value\":\"nan\"},\"run-of-the-river\",{\"type\":\"number\",\"value\":\"nan\"},\"run-of-the-river\",\"run-of-the-river\",\"run-of-the-river\",{\"type\":\"number\",\"value\":\"nan\"},\"run-of-the-river\",\"run-of-the-river\",\"run-of-the-river\",\"run-of-the-river\",\"run-of-the-river\",\"run-of-the-river\",\"run-of-the-river\",\"run-of-the-river\",\"run-of-the-river\",\"run-of-the-river\",\"run-of-the-river\",{\"type\":\"number\",\"value\":\"nan\"},{\"type\":\"number\",\"value\":\"nan\"},{\"type\":\"number\",\"value\":\"nan\"},\"run-of-the-river\",{\"type\":\"number\",\"value\":\"nan\"},\"water-pumped-storage\",\"run-of-the-river\",{\"type\":\"number\",\"value\":\"nan\"},\"water-storage\",{\"type\":\"number\",\"value\":\"nan\"},{\"type\":\"number\",\"value\":\"nan\"},{\"type\":\"number\",\"value\":\"nan\"},{\"type\":\"number\",\"value\":\"nan\"},\"run-of-the-river\",\"water-storage\",\"water-storage\",\"water-storage\",\"water-storage\",\"run-of-the-river\",{\"type\":\"number\",\"value\":\"nan\"},\"run-of-the-river\",\"water-storage\",{\"type\":\"number\",\"value\":\"nan\"},\"water-storage\",{\"type\":\"number\",\"value\":\"nan\"},\"run-of-the-river\",\"run-of-the-river\",\"run-of-the-river\",\"run-of-the-river\",\"water-storage\",\"water-storage\",\"water-storage\",{\"type\":\"number\",\"value\":\"nan\"},\"run-of-the-river\",\"run-of-the-river\",\"run-of-the-river\",\"water-pumped-storage\",\"water-storage\",\"run-of-the-river\",\"run-of-the-river\",\"run-of-the-river\",{\"type\":\"number\",\"value\":\"nan\"},\"run-of-the-river\",{\"type\":\"number\",\"value\":\"nan\"},\"run-of-the-river\",\"run-of-the-river\",{\"type\":\"number\",\"value\":\"nan\"},\"run-of-the-river\",{\"type\":\"number\",\"value\":\"nan\"},\"run-of-the-river\",\"run-of-the-river\",{\"type\":\"number\",\"value\":\"nan\"},\"water-storage\",\"run-of-the-river\",\"run-of-the-river\",\"run-of-the-river\",\"run-of-the-river\",\"run-of-the-river\",\"run-of-the-river\",\"run-of-the-river\",\"run-of-the-river\",\"run-of-the-river\",\"water-storage\",{\"type\":\"number\",\"value\":\"nan\"},{\"type\":\"number\",\"value\":\"nan\"},\"run-of-the-river\",{\"type\":\"number\",\"value\":\"nan\"},\"run-of-the-river\",\"run-of-the-river\",{\"type\":\"number\",\"value\":\"nan\"},{\"type\":\"number\",\"value\":\"nan\"},\"run-of-the-river\",{\"type\":\"number\",\"value\":\"nan\"},\"run-of-the-river\",\"run-of-the-river\",{\"type\":\"number\",\"value\":\"nan\"},{\"type\":\"number\",\"value\":\"nan\"},{\"type\":\"number\",\"value\":\"nan\"},\"water-storage\",{\"type\":\"number\",\"value\":\"nan\"},{\"type\":\"number\",\"value\":\"nan\"},{\"type\":\"number\",\"value\":\"nan\"},{\"type\":\"number\",\"value\":\"nan\"},\"run-of-the-river\",\"run-of-the-river\",{\"type\":\"number\",\"value\":\"nan\"},{\"type\":\"number\",\"value\":\"nan\"},{\"type\":\"number\",\"value\":\"nan\"},\"run-of-the-river\",\"run-of-the-river\",\"run-of-the-river\",{\"type\":\"number\",\"value\":\"nan\"},{\"type\":\"number\",\"value\":\"nan\"},\"run-of-the-river\",\"run-of-the-river\",\"water-storage\",{\"type\":\"number\",\"value\":\"nan\"},\"run-of-the-river\",\"run-of-the-river\",{\"type\":\"number\",\"value\":\"nan\"},{\"type\":\"number\",\"value\":\"nan\"},{\"type\":\"number\",\"value\":\"nan\"},\"water-storage\",{\"type\":\"number\",\"value\":\"nan\"},{\"type\":\"number\",\"value\":\"nan\"},\"run-of-the-river\",\"run-of-the-river\"],\"shape\":[301],\"dtype\":\"object\",\"order\":\"little\"}],[\"coordinates\",{\"type\":\"ndarray\",\"array\":[[-9.7505072,14.481856],[3.67,31.781],[6.3047293,12.8085297],[-15.8532378,28.4720242],[-25.2189603,32.132931],[-17.9305562,25.8599024],[-5.5275113,13.6208301],[-3.4911561,29.4148731],[15.2387286,32.4849279],[0.450452,33.1858543],[0.5381209,25.1858959],[10.0060284,-12.996104],[9.9556005,-13.0070927],[-19.2478094,47.8338994],[11.0481905,-12.4503986],[2.428165,30.9732285],[4.9198581,18.0024059],[-2.3829229,30.7842584],[-2.5090433,28.8750864],[-17.9310913,25.8605714],[-2.6333263,28.9024943],[-9.7947471,15.4643822],[-8.53672,13.6962255],[-12.4679475,13.7266816],[-20.1188645,47.083174],[10.5253153,-12.6630651],[-0.7949344,37.7527137],[-0.8790083,37.5890107],[0.5476208,35.1770072],[-0.9094234,34.3478996],[-0.7547989,37.1486826],[-0.4754754,37.0523871],[-0.7855854,37.2654844],[-0.7493804,37.1747323],[-1.0198408,37.2602322],[18.6690141,32.0529887],[4.8711435,18.0502134],[9.0694915,-11.7236468],[-5.5162604,13.6219519],[11.4859457,37.589684],[11.4887672,37.5998646],[4.8810559,18.0340808],[8.3931834,39.3520691],[8.3820109,39.3604526],[8.4685157,39.1589115],[-10.5025933,25.4455987],[-10.3044167,25.4063058],[-10.7187163,27.2835775],[-26.0785517,31.2615821],[7.0066037,0.6471654],[11.4769028,-0.5460709],[11.6384184,-8.2290276],[11.0824264,0.700947],[-32.0114356,28.5783471],[-26.6151202,31.3530952],[-14.7388041,28.8425235],[-14.5109033,29.1205061],[0.2603397,30.1493087],[-31.5996298,28.8182192],[-31.6858043,28.8833703],[9.0607745,13.6870432],[6.2986233,-10.3109603],[14.9258996,35.9064919],[6.2104566,-5.0830114],[-1.4258844,26.4935034],[-8.6143309,35.8564519],[-13.4519621,15.871353],[-15.8479332,28.4726478],[-15.9009186,34.7528418],[-15.5599209,34.7765923],[6.1192605,0.1242253],[-2.6424472,26.6212017],[6.096517,-9.7200753],[-3.2596318,29.6594001],[-3.347338,29.9846923],[5.5417604,10.1531592],[11.7976283,34.3867206],[-18.9263763,47.9471343],[-11.1241258,24.1920431],[-10.710972,28.8064435],[4.0784781,10.464691],[0.327675,30.0692908],[9.9179788,-13.1136033],[-13.3464391,31.0189448],[-24.6549962,30.8366412],[14.3576612,-11.3492258],[-5.2981123,38.6145308],[13.3493668,38.7407694],[-0.342793,34.851677],[-7.8372877,35.5967203],[0.4982466,33.1371764],[8.7506487,38.7164169],[-10.7451638,27.2446137],[-9.9626487,25.9036783],[-10.0055295,25.8938969],[-19.5457813,33.5096552],[9.5615355,37.4124907],[6.8432195,37.3006795],[7.7568548,37.5624476],[7.2248927,39.4615328],[8.2791365,-2.2354824],[-19.155785,33.1450236],[-30.6259955,25.5039857],[-34.1980861,18.9737743],[-34.151623,18.8970128],[-26.3763271,31.155233],[-24.9572344,29.9576113],[-28.2163946,28.3634909],[-28.3638051,28.3617674],[-0.353899,34.8131524],[1.912958,35.356691],[-16.5215382,28.7647547],[-16.5190722,28.7625218],[-28.5652239,29.0833837],[7.0258865,-5.4722915],[-24.7166675,30.8329171],[-9.8401122,34.5293965],[3.8133378,10.1280567],[-15.7697282,26.0225538],[0.4436302,33.1847566],[12.6379566,-7.9253516],[-1.7626025,13.5458327],[-9.7945208,34.7043479],[-12.4571453,13.6321399],[6.245358,-7.0272794],[0.0665435,30.3212753],[-14.7439808,15.0418528],[-17.398589,14.221673],[-15.548671,49.5567043],[-7.3631387,20.8432678],[-9.4534414,34.7934551],[-10.1188432,30.914437],[-11.1544361,31.5505409],[-8.6241139,35.6892435],[-0.5998879,37.8884782],[-21.2569017,47.437927],[-3.8263091,37.4690791],[-0.4514505,35.2195249],[1.0957175,15.6793584],[0.450129,10.2815723],[0.6211693,10.4073977],[9.9736106,6.8345127],[-15.895987,28.5591799],[-1.4774084,29.7503764],[1.5580064,31.1046905],[1.6653029,10.5720245],[1.5485378,9.8377048],[9.1400157,4.7893339],[-18.4301374,32.8442204],[-31.7791463,27.7178631],[-2.9371099,16.0371461],[-3.9011773,13.7654155],[-4.3019372,15.2065031],[-1.7630743,13.5445],[-1.7519688,13.5417219],[-2.2327947,11.4631666],[-9.7463037,14.4838307],[-9.734028,15.108944],[-11.9505802,17.445238],[-12.725442,14.3856055],[-9.4857462,20.3542232],[-17.2732324,14.5440057],[-10.4451096,34.0837353],[-15.5585556,34.7777261],[-15.5268305,34.8192259],[-15.5263814,34.8184009],[-5.3499327,38.6592958],[-7.1377534,35.9881086],[-0.8064825,37.686077],[0.3053641,30.0979188],[0.3744277,30.2043299],[-29.9936129,24.73006],[10.4633352,-13.2821878],[6.4962116,-10.651422],[-1.4217369,29.8282365],[-1.5817857,29.6550698],[-1.5367813,29.6832231],[-2.4410939,29.4958146],[-2.2756576,29.2429508],[-1.7047349,29.3127452],[-1.7100222,29.2652856],[-1.6907203,29.2775299],[-1.8277109,29.2983842],[-1.8067732,29.292803],[-1.8496842,29.29918],[-1.6254712,29.6477082],[-1.669028,29.5905953],[-1.6875391,29.573692],[-1.9784301,29.6391552],[-18.8031763,48.6565456],[-19.00591,47.6917996],[-19.011979,47.7033421],[-19.9404686,47.0688764],[-18.1358469,49.1810256],[-4.0596865,29.5464366],[-1.3128176,30.096302],[-15.1839669,13.6202686],[-3.040055,30.1535515],[14.2434331,35.9180403],[-28.7796851,28.4521548],[-29.2417958,28.890441],[-28.7666381,20.7266973],[6.298749,0.0557875],[7.9034579,37.3685215],[3.0846389,29.581854],[3.1904527,29.4982434],[10.3211779,11.4814918],[9.8637617,4.6121114],[7.4233472,1.4353194],[5.5819876,-3.1591588],[4.9724294,-6.6524434],[5.6061152,-3.170047],[5.785357,-6.6332786],[13.1965509,-10.4298455],[14.0114777,-11.1050654],[10.4239328,-13.2479426],[2.3731953,10.3487589],[9.7887036,37.2692245],[-0.8100233,37.8127212],[2.2455845,32.26702],[-2.7737182,29.5171362],[-2.4413495,29.5123552],[-3.9599225,29.5682477],[-2.938157,29.4633753],[-1.2255366,29.4611198],[-1.2124151,29.4089508],[-6.5014524,20.8895403],[-4.8422458,14.9584892],[-4.77966,14.8680546],[-4.7818888,14.9025941],[-28.2763739,29.5867663],[-15.5868325,32.7064115],[-8.9134244,31.1603226],[-8.8989484,31.160276],[-15.556969,34.7787855],[-7.8022028,37.8533211],[0.0806504,29.7524596],[4.3802736,11.7162055],[-0.6314742,36.9014716],[-13.3172723,31.0199598],[3.1481356,32.5175002],[-28.4306067,28.3846251],[-18.3453997,32.9204479],[-18.395489,32.9070937],[0.5994054,29.9845368],[5.6970306,-6.5705603],[-1.212513,29.4086309],[-14.3879626,16.2932698],[-25.4514935,30.9817537],[-27.0854864,30.9457677],[-7.6486848,28.0936607],[-24.9976785,30.4392937],[-28.4036507,28.3645463],[-28.3786455,28.365439],[-26.5894463,31.3240726],[-11.0242229,20.2053925],[-10.710648,28.8061734],[-18.4374998,32.8457856],[-18.596851,32.7197931],[-18.5374026,32.8783213],[-18.1301492,32.8977043],[-33.9085784,19.0060407],[-33.9024294,19.0130987],[-17.9323088,25.8607411],[-8.041293,25.2758446],[-20.0549698,32.7400565],[5.5229227,39.7753518],[-12.3551724,24.8494921],[0.7719193,33.0421983],[0.1049236,29.9413555],[0.1326257,29.9397129],[3.1293309,32.5144533],[-10.1255502,25.4098241],[-15.9909825,35.6609311],[-7.6632853,36.9660679],[12.4033935,-12.2029299],[-1.5649246,29.6472992],[-7.3640663,20.842895],[0.2242889,29.9928592],[0.1959747,30.0162793],[0.4715977,30.2610794],[-0.2090422,30.1173653],[1.3476292,34.6667849],[1.3746955,34.6809816],[-2.4594117,29.4356305],[10.7289404,-11.1703862],[-3.7453923,29.3338627],[-0.4170608,35.2359452],[-0.4098476,35.2519908],[-0.4683997,35.1892191],[-0.4688019,35.1890253],[-0.0478698,37.5931413],[-0.857065,36.8092935],[-0.500286,36.8810169],[-6.0851486,23.7656805],[-5.6287276,19.0517466],[11.2153821,35.0918111],[3.2589654,12.4217983],[0.0593515,29.3077794],[-5.0436904,28.9299373],[4.3064528,21.1852526]],\"shape\":[301],\"dtype\":\"object\",\"order\":\"little\"}],[\"id\",{\"type\":\"ndarray\",\"array\":[929113534,3813814257,6208644727,7979139377,7983219621,38875882,53452604,150705457,157755082,171254362,176980014,178571264,178571265,178639826,180372395,189679823,192308981,194699416,195072407,198090279,198446252,202428440,202489361,203975224,205754792,207825221,209568337,209568339,209675482,209806584,209961440,209961620,209961690,209962134,210621521,218610666,220814846,220847614,222627235,222688270,222688272,222784487,223098729,223098730,223098972,224127900,224132602,224133685,231633171,232409099,241542794,244790225,246418073,247958051,248625098,251997955,252005997,254604756,254692861,254692862,255606494,258553367,261472032,266415631,271895728,273582579,277180625,285901170,302047961,302050339,302127338,302975995,303293260,304015929,304550514,305094997,306787728,308371677,311031988,316780107,320679323,325413399,328013734,331516078,340126212,357484873,361016622,362859973,374036051,374716990,377974430,384797186,388166537,388331454,388331455,389993910,407077371,407077376,407077377,407077378,407081343,416847072,418863861,418863864,418863866,425301382,431983435,431989544,431989848,444000639,448329460,449155820,449155821,453483546,453510539,469700754,470057234,477145794,503041676,506145556,506146310,510004615,529617820,531017619,533150339,539927279,544253505,544253506,550249567,555440040,563363584,576893183,577127898,578493039,578920143,581190212,583433280,594647336,595530648,595608514,595608543,597677790,601733444,610191867,632780737,639781329,644322972,655276476,655926528,659989989,662444396,662454697,662457974,662920186,662947359,662997578,663579739,663579751,663654464,663880514,664452454,664471498,667538870,668080652,668080684,668080687,668319320,668555528,669537263,671692171,676269601,685871798,695789318,695985721,697005696,697005711,697005718,697185217,697548395,697629020,697631738,697631744,697636443,697636447,697636983,697814220,697814222,697814228,697817600,702056059,702064685,702064686,702069812,702083814,706986299,733482634,747806445,748889283,753188468,759469576,759476803,810436670,826311727,828980237,830045221,830045232,833311906,836122577,838380160,839084341,839084363,839084395,839085660,839164011,839171070,840517626,840719533,845221791,846596010,846731378,847819740,847819745,847830677,847830681,848901551,848901554,848901557,848901558,848901561,848901563,849065020,849296590,855691267,855691270,856160181,895758868,905586880,944841134,968874277,993507293,993922441,998120626,1028372305,1035917796,1040443793,1043106265,1069474427,1080092291,1080300246,1080300248,1080315904,1080367592,1080469003,1080469754,1080503203,1080570464,1081672379,1081693696,1081699037,1081708909,1081722470,1082252204,1082252211,1082540596,1082544002,1083018583,1089422651,1105610948,1145458202,1145471812,1145471813,1145471819,1149056479,1156101727,1165360482,1165413747,1171110021,1175141130,1198474320,1198475626,1198478332,1201608636,1201707696,1201708833,1202061859,1209239658,1212608852,1213886814,1213890260,1213903874,1213903877,1213917819,1214001720,1214008286,6817915,7813349,12112609,12590035,14307095,14374993,14467328],\"shape\":[301],\"dtype\":\"object\",\"order\":\"little\"}]]}}},\"view\":{\"type\":\"object\",\"name\":\"CDSView\",\"id\":\"p1046\",\"attributes\":{\"filter\":{\"type\":\"object\",\"name\":\"AllIndices\",\"id\":\"p1047\"}}},\"glyph\":{\"type\":\"object\",\"name\":\"Scatter\",\"id\":\"p1042\",\"attributes\":{\"x\":{\"type\":\"field\",\"field\":\"x\"},\"y\":{\"type\":\"field\",\"field\":\"y\"},\"size\":{\"type\":\"value\",\"value\":8},\"line_color\":{\"type\":\"value\",\"value\":\"blue\"},\"fill_color\":{\"type\":\"value\",\"value\":\"blue\"},\"hatch_color\":{\"type\":\"value\",\"value\":\"blue\"}}},\"selection_glyph\":null,\"nonselection_glyph\":null,\"muted_glyph\":{\"type\":\"object\",\"name\":\"Scatter\",\"id\":\"p1044\",\"attributes\":{\"x\":{\"type\":\"field\",\"field\":\"x\"},\"y\":{\"type\":\"field\",\"field\":\"y\"},\"size\":{\"type\":\"value\",\"value\":8},\"line_color\":{\"type\":\"value\",\"value\":\"blue\"},\"line_alpha\":{\"type\":\"value\",\"value\":0.2},\"fill_color\":{\"type\":\"value\",\"value\":\"blue\"},\"fill_alpha\":{\"type\":\"value\",\"value\":0.2},\"hatch_color\":{\"type\":\"value\",\"value\":\"blue\"},\"hatch_alpha\":{\"type\":\"value\",\"value\":0.2}}}}}],\"toolbar\":{\"type\":\"object\",\"name\":\"Toolbar\",\"id\":\"p1015\",\"attributes\":{\"tools\":[{\"type\":\"object\",\"name\":\"PanTool\",\"id\":\"p1028\"},{\"type\":\"object\",\"name\":\"WheelZoomTool\",\"id\":\"p1029\",\"attributes\":{\"renderers\":\"auto\"}},{\"type\":\"object\",\"name\":\"BoxZoomTool\",\"id\":\"p1030\",\"attributes\":{\"overlay\":{\"type\":\"object\",\"name\":\"BoxAnnotation\",\"id\":\"p1031\",\"attributes\":{\"syncable\":false,\"level\":\"overlay\",\"visible\":false,\"left_units\":\"canvas\",\"right_units\":\"canvas\",\"top_units\":\"canvas\",\"bottom_units\":\"canvas\",\"line_color\":\"black\",\"line_alpha\":1.0,\"line_width\":2,\"line_dash\":[4,4],\"fill_color\":\"lightgrey\",\"fill_alpha\":0.5}}}},{\"type\":\"object\",\"name\":\"SaveTool\",\"id\":\"p1032\"},{\"type\":\"object\",\"name\":\"ResetTool\",\"id\":\"p1033\"},{\"type\":\"object\",\"name\":\"HelpTool\",\"id\":\"p1034\"},{\"type\":\"object\",\"name\":\"HoverTool\",\"id\":\"p1048\",\"attributes\":{\"renderers\":[{\"id\":\"p1045\"}],\"tooltips\":[[\"Name\",\"@name\"],[\"Capacity\",\"@plant_output_electricity\"],[\"Type\",\"@plant_method\"],[\"Location\",\"@coordinates\"]]}},{\"type\":\"object\",\"name\":\"TapTool\",\"id\":\"p1049\",\"attributes\":{\"renderers\":[{\"id\":\"p1045\"}],\"callback\":{\"type\":\"object\",\"name\":\"OpenURL\",\"id\":\"p1050\",\"attributes\":{\"url\":\"https://www.openstreetmap.org/way/@id/\"}}}}]}},\"left\":[{\"type\":\"object\",\"name\":\"MercatorAxis\",\"id\":\"p1023\",\"attributes\":{\"ticker\":{\"type\":\"object\",\"name\":\"MercatorTicker\",\"id\":\"p1024\",\"attributes\":{\"mantissas\":[1,2,5],\"dimension\":\"lat\"}},\"formatter\":{\"type\":\"object\",\"name\":\"MercatorTickFormatter\",\"id\":\"p1025\",\"attributes\":{\"dimension\":\"lat\"}},\"major_label_policy\":{\"type\":\"object\",\"name\":\"AllLabels\",\"id\":\"p1026\"}}}],\"below\":[{\"type\":\"object\",\"name\":\"MercatorAxis\",\"id\":\"p1018\",\"attributes\":{\"ticker\":{\"type\":\"object\",\"name\":\"MercatorTicker\",\"id\":\"p1019\",\"attributes\":{\"mantissas\":[1,2,5],\"dimension\":\"lon\"}},\"formatter\":{\"type\":\"object\",\"name\":\"MercatorTickFormatter\",\"id\":\"p1020\",\"attributes\":{\"dimension\":\"lon\"}},\"major_label_policy\":{\"type\":\"object\",\"name\":\"AllLabels\",\"id\":\"p1021\"}}}],\"center\":[{\"type\":\"object\",\"name\":\"Grid\",\"id\":\"p1022\",\"attributes\":{\"axis\":{\"id\":\"p1018\"}}},{\"type\":\"object\",\"name\":\"Grid\",\"id\":\"p1027\",\"attributes\":{\"dimension\":1,\"axis\":{\"id\":\"p1023\"}}}]}}]}};\n  const render_items = [{\"docid\":\"d5c72e4c-5e82-4521-bd2a-a76141767f3a\",\"roots\":{\"p1007\":\"b741101b-4808-41d1-a535-2ceb2edc4dab\"},\"root_ids\":[\"p1007\"]}];\n  root.Bokeh.embed.embed_items_notebook(docs_json, render_items);\n  }\n  if (root.Bokeh !== undefined) {\n    embed_document(root);\n  } else {\n    let attempts = 0;\n    const timer = setInterval(function(root) {\n      if (root.Bokeh !== undefined) {\n        clearInterval(timer);\n        embed_document(root);\n      } else {\n        attempts++;\n        if (attempts > 100) {\n          clearInterval(timer);\n          console.log(\"Bokeh: ERROR: Unable to run BokehJS code because BokehJS library is missing\");\n        }\n      }\n    }, 10, root)\n  }\n})(window);",
      "application/vnd.bokehjs_exec.v0+json": ""
     },
     "metadata": {
      "application/vnd.bokehjs_exec.v0+json": {
       "id": "p1007"
      }
     },
     "output_type": "display_data"
    }
   ],
   "source": [
    "show(plot_map)"
   ]
  },
  {
   "cell_type": "code",
   "execution_count": 22,
   "id": "2a1a4133",
   "metadata": {},
   "outputs": [
    {
     "data": {
      "text/plain": [
       "301"
      ]
     },
     "execution_count": 22,
     "metadata": {},
     "output_type": "execute_result"
    }
   ],
   "source": [
    "len(df_hydro)"
   ]
  }
 ],
 "metadata": {
  "kernelspec": {
   "display_name": "Python 3 (ipykernel)",
   "language": "python",
   "name": "python3"
  },
  "language_info": {
   "codemirror_mode": {
    "name": "ipython",
    "version": 3
   },
   "file_extension": ".py",
   "mimetype": "text/x-python",
   "name": "python",
   "nbconvert_exporter": "python",
   "pygments_lexer": "ipython3",
   "version": "3.11.4"
  }
 },
 "nbformat": 4,
 "nbformat_minor": 5
}
