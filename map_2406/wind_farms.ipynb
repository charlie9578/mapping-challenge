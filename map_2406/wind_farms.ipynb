{
 "cells": [
  {
   "cell_type": "markdown",
   "id": "87413b1d",
   "metadata": {},
   "source": [
    "# Offshore wind farms\n",
    "\n",
    "This notebook pulls wind farm data from OpenStreetMap (OSM) and plots them in Bokeh plots. The idea is to produce something interactive and fun to play with. "
   ]
  },
  {
   "cell_type": "markdown",
   "id": "dc26f5de",
   "metadata": {},
   "source": [
    "## Setup\n",
    "\n",
    "Import libraries and standard tools used"
   ]
  },
  {
   "cell_type": "code",
   "execution_count": 164,
   "id": "9627621e",
   "metadata": {},
   "outputs": [
    {
     "data": {
      "text/html": [
       "    <style>\n",
       "        .bk-notebook-logo {\n",
       "            display: block;\n",
       "            width: 20px;\n",
       "            height: 20px;\n",
       "            background-image: url(data:image/png;base64,iVBORw0KGgoAAAANSUhEUgAAABQAAAAUCAYAAACNiR0NAAAABHNCSVQICAgIfAhkiAAAAAlwSFlzAAALEgAACxIB0t1+/AAAABx0RVh0U29mdHdhcmUAQWRvYmUgRmlyZXdvcmtzIENTNui8sowAAAOkSURBVDiNjZRtaJVlGMd/1/08zzln5zjP1LWcU9N0NkN8m2CYjpgQYQXqSs0I84OLIC0hkEKoPtiH3gmKoiJDU7QpLgoLjLIQCpEsNJ1vqUOdO7ppbuec5+V+rj4ctwzd8IIbbi6u+8f1539dt3A78eXC7QizUF7gyV1fD1Yqg4JWz84yffhm0qkFqBogB9rM8tZdtwVsPUhWhGcFJngGeWrPzHm5oaMmkfEg1usvLFyc8jLRqDOMru7AyC8saQr7GG7f5fvDeH7Ej8CM66nIF+8yngt6HWaKh7k49Soy9nXurCi1o3qUbS3zWfrYeQDTB/Qj6kX6Ybhw4B+bOYoLKCC9H3Nu/leUTZ1JdRWkkn2ldcCamzrcf47KKXdAJllSlxAOkRgyHsGC/zRday5Qld9DyoM4/q/rUoy/CXh3jzOu3bHUVZeU+DEn8FInkPBFlu3+nW3Nw0mk6vCDiWg8CeJaxEwuHS3+z5RgY+YBR6V1Z1nxSOfoaPa4LASWxxdNp+VWTk7+4vzaou8v8PN+xo+KY2xsw6une2frhw05CTYOmQvsEhjhWjn0bmXPjpE1+kplmmkP3suftwTubK9Vq22qKmrBhpY4jvd5afdRA3wGjFAgcnTK2s4hY0/GPNIb0nErGMCRxWOOX64Z8RAC4oCXdklmEvcL8o0BfkNK4lUg9HTl+oPlQxdNo3Mg4Nv175e/1LDGzZen30MEjRUtmXSfiTVu1kK8W4txyV6BMKlbgk3lMwYCiusNy9fVfvvwMxv8Ynl6vxoByANLTWplvuj/nF9m2+PDtt1eiHPBr1oIfhCChQMBw6Aw0UulqTKZdfVvfG7VcfIqLG9bcldL/+pdWTLxLUy8Qq38heUIjh4XlzZxzQm19lLFlr8vdQ97rjZVOLf8nclzckbcD4wxXMidpX30sFd37Fv/GtwwhzhxGVAprjbg0gCAEeIgwCZyTV2Z1REEW8O4py0wsjeloKoMr6iCY6dP92H6Vw/oTyICIthibxjm/DfN9lVz8IqtqKYLUXfoKVMVQVVJOElGjrnnUt9T9wbgp8AyYKaGlqingHZU/uG2NTZSVqwHQTWkx9hxjkpWDaCg6Ckj5qebgBVbT3V3NNXMSiWSDdGV3hrtzla7J+duwPOToIg42ChPQOQjspnSlp1V+Gjdged7+8UN5CRAV7a5EdFNwCjEaBR27b3W890TE7g24NAP/mMDXRWrGoFPQI9ls/MWO2dWFAar/xcOIImbbpA3zgAAAABJRU5ErkJggg==);\n",
       "        }\n",
       "    </style>\n",
       "    <div>\n",
       "        <a href=\"https://bokeh.org\" target=\"_blank\" class=\"bk-notebook-logo\"></a>\n",
       "        <span id=\"f9eaa3ff-bba8-47ad-8117-2701c79d7e9f\">Loading BokehJS ...</span>\n",
       "    </div>\n"
      ]
     },
     "metadata": {},
     "output_type": "display_data"
    },
    {
     "data": {
      "application/javascript": "(function(root) {\n  function now() {\n    return new Date();\n  }\n\n  const force = true;\n\n  if (typeof root._bokeh_onload_callbacks === \"undefined\" || force === true) {\n    root._bokeh_onload_callbacks = [];\n    root._bokeh_is_loading = undefined;\n  }\n\nconst JS_MIME_TYPE = 'application/javascript';\n  const HTML_MIME_TYPE = 'text/html';\n  const EXEC_MIME_TYPE = 'application/vnd.bokehjs_exec.v0+json';\n  const CLASS_NAME = 'output_bokeh rendered_html';\n\n  /**\n   * Render data to the DOM node\n   */\n  function render(props, node) {\n    const script = document.createElement(\"script\");\n    node.appendChild(script);\n  }\n\n  /**\n   * Handle when an output is cleared or removed\n   */\n  function handleClearOutput(event, handle) {\n    function drop(id) {\n      const view = Bokeh.index.get_by_id(id)\n      if (view != null) {\n        view.model.document.clear()\n        Bokeh.index.delete(view)\n      }\n    }\n\n    const cell = handle.cell;\n\n    const id = cell.output_area._bokeh_element_id;\n    const server_id = cell.output_area._bokeh_server_id;\n\n    // Clean up Bokeh references\n    if (id != null) {\n      drop(id)\n    }\n\n    if (server_id !== undefined) {\n      // Clean up Bokeh references\n      const cmd_clean = \"from bokeh.io.state import curstate; print(curstate().uuid_to_server['\" + server_id + \"'].get_sessions()[0].document.roots[0]._id)\";\n      cell.notebook.kernel.execute(cmd_clean, {\n        iopub: {\n          output: function(msg) {\n            const id = msg.content.text.trim()\n            drop(id)\n          }\n        }\n      });\n      // Destroy server and session\n      const cmd_destroy = \"import bokeh.io.notebook as ion; ion.destroy_server('\" + server_id + \"')\";\n      cell.notebook.kernel.execute(cmd_destroy);\n    }\n  }\n\n  /**\n   * Handle when a new output is added\n   */\n  function handleAddOutput(event, handle) {\n    const output_area = handle.output_area;\n    const output = handle.output;\n\n    // limit handleAddOutput to display_data with EXEC_MIME_TYPE content only\n    if ((output.output_type != \"display_data\") || (!Object.prototype.hasOwnProperty.call(output.data, EXEC_MIME_TYPE))) {\n      return\n    }\n\n    const toinsert = output_area.element.find(\".\" + CLASS_NAME.split(' ')[0]);\n\n    if (output.metadata[EXEC_MIME_TYPE][\"id\"] !== undefined) {\n      toinsert[toinsert.length - 1].firstChild.textContent = output.data[JS_MIME_TYPE];\n      // store reference to embed id on output_area\n      output_area._bokeh_element_id = output.metadata[EXEC_MIME_TYPE][\"id\"];\n    }\n    if (output.metadata[EXEC_MIME_TYPE][\"server_id\"] !== undefined) {\n      const bk_div = document.createElement(\"div\");\n      bk_div.innerHTML = output.data[HTML_MIME_TYPE];\n      const script_attrs = bk_div.children[0].attributes;\n      for (let i = 0; i < script_attrs.length; i++) {\n        toinsert[toinsert.length - 1].firstChild.setAttribute(script_attrs[i].name, script_attrs[i].value);\n        toinsert[toinsert.length - 1].firstChild.textContent = bk_div.children[0].textContent\n      }\n      // store reference to server id on output_area\n      output_area._bokeh_server_id = output.metadata[EXEC_MIME_TYPE][\"server_id\"];\n    }\n  }\n\n  function register_renderer(events, OutputArea) {\n\n    function append_mime(data, metadata, element) {\n      // create a DOM node to render to\n      const toinsert = this.create_output_subarea(\n        metadata,\n        CLASS_NAME,\n        EXEC_MIME_TYPE\n      );\n      this.keyboard_manager.register_events(toinsert);\n      // Render to node\n      const props = {data: data, metadata: metadata[EXEC_MIME_TYPE]};\n      render(props, toinsert[toinsert.length - 1]);\n      element.append(toinsert);\n      return toinsert\n    }\n\n    /* Handle when an output is cleared or removed */\n    events.on('clear_output.CodeCell', handleClearOutput);\n    events.on('delete.Cell', handleClearOutput);\n\n    /* Handle when a new output is added */\n    events.on('output_added.OutputArea', handleAddOutput);\n\n    /**\n     * Register the mime type and append_mime function with output_area\n     */\n    OutputArea.prototype.register_mime_type(EXEC_MIME_TYPE, append_mime, {\n      /* Is output safe? */\n      safe: true,\n      /* Index of renderer in `output_area.display_order` */\n      index: 0\n    });\n  }\n\n  // register the mime type if in Jupyter Notebook environment and previously unregistered\n  if (root.Jupyter !== undefined) {\n    const events = require('base/js/events');\n    const OutputArea = require('notebook/js/outputarea').OutputArea;\n\n    if (OutputArea.prototype.mime_types().indexOf(EXEC_MIME_TYPE) == -1) {\n      register_renderer(events, OutputArea);\n    }\n  }\n  if (typeof (root._bokeh_timeout) === \"undefined\" || force === true) {\n    root._bokeh_timeout = Date.now() + 5000;\n    root._bokeh_failed_load = false;\n  }\n\n  const NB_LOAD_WARNING = {'data': {'text/html':\n     \"<div style='background-color: #fdd'>\\n\"+\n     \"<p>\\n\"+\n     \"BokehJS does not appear to have successfully loaded. If loading BokehJS from CDN, this \\n\"+\n     \"may be due to a slow or bad network connection. Possible fixes:\\n\"+\n     \"</p>\\n\"+\n     \"<ul>\\n\"+\n     \"<li>re-rerun `output_notebook()` to attempt to load from CDN again, or</li>\\n\"+\n     \"<li>use INLINE resources instead, as so:</li>\\n\"+\n     \"</ul>\\n\"+\n     \"<code>\\n\"+\n     \"from bokeh.resources import INLINE\\n\"+\n     \"output_notebook(resources=INLINE)\\n\"+\n     \"</code>\\n\"+\n     \"</div>\"}};\n\n  function display_loaded() {\n    const el = document.getElementById(\"f9eaa3ff-bba8-47ad-8117-2701c79d7e9f\");\n    if (el != null) {\n      el.textContent = \"BokehJS is loading...\";\n    }\n    if (root.Bokeh !== undefined) {\n      if (el != null) {\n        el.textContent = \"BokehJS \" + root.Bokeh.version + \" successfully loaded.\";\n      }\n    } else if (Date.now() < root._bokeh_timeout) {\n      setTimeout(display_loaded, 100)\n    }\n  }\n\n  function run_callbacks() {\n    try {\n      root._bokeh_onload_callbacks.forEach(function(callback) {\n        if (callback != null)\n          callback();\n      });\n    } finally {\n      delete root._bokeh_onload_callbacks\n    }\n    console.debug(\"Bokeh: all callbacks have finished\");\n  }\n\n  function load_libs(css_urls, js_urls, callback) {\n    if (css_urls == null) css_urls = [];\n    if (js_urls == null) js_urls = [];\n\n    root._bokeh_onload_callbacks.push(callback);\n    if (root._bokeh_is_loading > 0) {\n      console.debug(\"Bokeh: BokehJS is being loaded, scheduling callback at\", now());\n      return null;\n    }\n    if (js_urls == null || js_urls.length === 0) {\n      run_callbacks();\n      return null;\n    }\n    console.debug(\"Bokeh: BokehJS not loaded, scheduling load and callback at\", now());\n    root._bokeh_is_loading = css_urls.length + js_urls.length;\n\n    function on_load() {\n      root._bokeh_is_loading--;\n      if (root._bokeh_is_loading === 0) {\n        console.debug(\"Bokeh: all BokehJS libraries/stylesheets loaded\");\n        run_callbacks()\n      }\n    }\n\n    function on_error(url) {\n      console.error(\"failed to load \" + url);\n    }\n\n    for (let i = 0; i < css_urls.length; i++) {\n      const url = css_urls[i];\n      const element = document.createElement(\"link\");\n      element.onload = on_load;\n      element.onerror = on_error.bind(null, url);\n      element.rel = \"stylesheet\";\n      element.type = \"text/css\";\n      element.href = url;\n      console.debug(\"Bokeh: injecting link tag for BokehJS stylesheet: \", url);\n      document.body.appendChild(element);\n    }\n\n    for (let i = 0; i < js_urls.length; i++) {\n      const url = js_urls[i];\n      const element = document.createElement('script');\n      element.onload = on_load;\n      element.onerror = on_error.bind(null, url);\n      element.async = false;\n      element.src = url;\n      console.debug(\"Bokeh: injecting script tag for BokehJS library: \", url);\n      document.head.appendChild(element);\n    }\n  };\n\n  function inject_raw_css(css) {\n    const element = document.createElement(\"style\");\n    element.appendChild(document.createTextNode(css));\n    document.body.appendChild(element);\n  }\n\n  const js_urls = [\"https://cdn.bokeh.org/bokeh/release/bokeh-3.3.2.min.js\", \"https://cdn.bokeh.org/bokeh/release/bokeh-gl-3.3.2.min.js\", \"https://cdn.bokeh.org/bokeh/release/bokeh-widgets-3.3.2.min.js\", \"https://cdn.bokeh.org/bokeh/release/bokeh-tables-3.3.2.min.js\", \"https://cdn.bokeh.org/bokeh/release/bokeh-mathjax-3.3.2.min.js\"];\n  const css_urls = [];\n\n  const inline_js = [    function(Bokeh) {\n      Bokeh.set_log_level(\"info\");\n    },\nfunction(Bokeh) {\n    }\n  ];\n\n  function run_inline_js() {\n    if (root.Bokeh !== undefined || force === true) {\n          for (let i = 0; i < inline_js.length; i++) {\n      inline_js[i].call(root, root.Bokeh);\n    }\nif (force === true) {\n        display_loaded();\n      }} else if (Date.now() < root._bokeh_timeout) {\n      setTimeout(run_inline_js, 100);\n    } else if (!root._bokeh_failed_load) {\n      console.log(\"Bokeh: BokehJS failed to load within specified timeout.\");\n      root._bokeh_failed_load = true;\n    } else if (force !== true) {\n      const cell = $(document.getElementById(\"f9eaa3ff-bba8-47ad-8117-2701c79d7e9f\")).parents('.cell').data().cell;\n      cell.output_area.append_execute_result(NB_LOAD_WARNING)\n    }\n  }\n\n  if (root._bokeh_is_loading === 0) {\n    console.debug(\"Bokeh: BokehJS loaded, going straight to plotting\");\n    run_inline_js();\n  } else {\n    load_libs(css_urls, js_urls, function() {\n      console.debug(\"Bokeh: BokehJS plotting callback run at\", now());\n      run_inline_js();\n    });\n  }\n}(window));",
      "application/vnd.bokehjs_load.v0+json": ""
     },
     "metadata": {},
     "output_type": "display_data"
    }
   ],
   "source": [
    "import os\n",
    "import requests\n",
    "import json\n",
    "\n",
    "import re\n",
    "\n",
    "import openstreetmap_mapping as osm\n",
    "\n",
    "import pandas as pd\n",
    "\n",
    "from bokeh.plotting import show, output_file\n",
    "from bokeh.io import output_notebook\n",
    "\n",
    "from bokeh.plotting import figure\n",
    "from bokeh.models import WMTSTileSource, ColumnDataSource, OpenURL, TapTool\n",
    "from bokeh.models import HoverTool\n",
    "from bokeh.layouts import gridplot\n",
    "from bokeh.models import Range1d\n",
    "from bokeh.palettes import viridis, Category20\n",
    "from bokeh.models import Range1d\n",
    "from bokeh.io import export_png\n",
    "\n",
    "from pyproj import Transformer\n",
    "\n",
    "from PIL import Image\n",
    "\n",
    "output_notebook()"
   ]
  },
  {
   "cell_type": "code",
   "execution_count": 165,
   "id": "078bd2ff",
   "metadata": {},
   "outputs": [
    {
     "name": "stdout",
     "output_type": "stream",
     "text": [
      "The autoreload extension is already loaded. To reload it, use:\n",
      "  %reload_ext autoreload\n"
     ]
    }
   ],
   "source": [
    "%load_ext autoreload\n",
    "%autoreload 2"
   ]
  },
  {
   "cell_type": "code",
   "execution_count": 166,
   "id": "b5ca8237",
   "metadata": {},
   "outputs": [],
   "source": [
    "area_UK = \"(49.325, -11.25, 59.356, 1.95)\"\n",
    "area = \"(51.4,2.6,51.9,3.2)\" # Borselle etc.\n",
    "#area = \"(51.55,1.4,51.75,1.6)\" # London Array\n"
   ]
  },
  {
   "cell_type": "code",
   "execution_count": 167,
   "id": "2e8a9ccf",
   "metadata": {},
   "outputs": [],
   "source": [
    "MAP_TILES = {\"OpenMap\": WMTSTileSource(url=\"http://c.tile.openstreetmap.org/{Z}/{X}/{Y}.png\"),\n",
    "         \"ESRI\": WMTSTileSource(url=\"https://server.arcgisonline.com/ArcGIS/rest/services/World_Imagery/MapServer/tile/{Z}/{Y}/{X}.jpg\"),\n",
    "         \"OpenTopoMap\": WMTSTileSource(url=\"https://tile.opentopomap.org/{Z}/{X}/{Y}.png\")}"
   ]
  },
  {
   "cell_type": "code",
   "execution_count": 168,
   "id": "8118f2ec",
   "metadata": {},
   "outputs": [],
   "source": [
    "# Use pyproj to transform longitude and latitude into web-mercator and add to a copy of the asset dataframe\n",
    "TRANSFORM_4326_TO_3857 = Transformer.from_crs(\"EPSG:4326\", \"EPSG:3857\")\n",
    "TRANSFORM_3857_TO_4326 = Transformer.from_crs(\"EPSG:3857\", \"EPSG:4326\")\n",
    " "
   ]
  },
  {
   "cell_type": "code",
   "execution_count": 169,
   "id": "701c6977",
   "metadata": {},
   "outputs": [],
   "source": [
    "# Place to save data so that the number of OSM requests are reduced when re-loading the same data\n",
    "path_save = r\"data/\"\n",
    "\n",
    "if not os.path.exists(path_save):\n",
    "    os.makedirs(path_save)\n",
    "    "
   ]
  },
  {
   "cell_type": "code",
   "execution_count": 170,
   "id": "2ca33f14",
   "metadata": {},
   "outputs": [],
   "source": [
    "def get_power_lines(area=\"(55.503, 37.0789,56.003, 38.1871)\"):\n",
    "\n",
    "    key = \"power\"\n",
    "    tag = \"cable\"\n",
    "    output = \"geom\"\n",
    "    recursion = \"\"\n",
    "    element=\"way\"\n",
    "\n",
    "    data = osm.toolkit.get_osm_data(key=key,\n",
    "                                    tag=tag,\n",
    "                                    area=area,\n",
    "                                    output=output,\n",
    "                                    recursion=recursion,\n",
    "                                    element=element)\n",
    "    \n",
    "    return data"
   ]
  },
  {
   "cell_type": "code",
   "execution_count": 171,
   "id": "9e41112c",
   "metadata": {},
   "outputs": [],
   "source": [
    "def get_wind_turbines(area=\"(55.503, 37.0789,56.003, 38.1871)\"):\n",
    "\n",
    "    key = \"generator:method\"\n",
    "    tag = \"wind_turbine\"\n",
    "    output = \"center\"\n",
    "    recursion = \"\"\n",
    "    element = \"node\"\n",
    "\n",
    "    data = osm.toolkit.get_osm_data(key=key,\n",
    "                                    tag=tag,\n",
    "                                    area=area,\n",
    "                                    output=output,\n",
    "                                    recursion=recursion,\n",
    "                                    element=element)\n",
    "    \n",
    "    return data"
   ]
  },
  {
   "cell_type": "code",
   "execution_count": 172,
   "id": "ba9bc55b",
   "metadata": {},
   "outputs": [],
   "source": [
    "def get_substations(area=\"(55.503, 37.0789,56.003, 38.1871)\"):\n",
    "\n",
    "    key = \"power\"\n",
    "    tag = \"substation\"\n",
    "    output = \"center\"\n",
    "    recursion = \"\"\n",
    "    element = \"node\"\n",
    "\n",
    "    data = osm.toolkit.get_osm_data(key=key,\n",
    "                                    tag=tag,\n",
    "                                    area=area,\n",
    "                                    output=output,\n",
    "                                    recursion=recursion,\n",
    "                                    element=element)\n",
    "    \n",
    "    return data"
   ]
  },
  {
   "cell_type": "code",
   "execution_count": 173,
   "id": "6c9b7aaf",
   "metadata": {},
   "outputs": [],
   "source": [
    "def get_plants(area=\"(55.503, 37.0789,56.003, 38.1871)\"):\n",
    "\n",
    "    key = \"seamark:production_area:category\"\n",
    "    tag = \"wind_farm\"\n",
    "    output = \"geom\"\n",
    "    recursion = \"\"\n",
    "    element = \"way\"\n",
    "\n",
    "    data = osm.toolkit.get_osm_data(key=key,\n",
    "                                    tag=tag,\n",
    "                                    area=area,\n",
    "                                    output=output,\n",
    "                                    recursion=recursion,\n",
    "                                    element=element)\n",
    "    \n",
    "    return data"
   ]
  },
  {
   "cell_type": "code",
   "execution_count": 174,
   "id": "fe88205f",
   "metadata": {},
   "outputs": [],
   "source": [
    "def get_power_line_data(area,name):\n",
    "    file_name = path_save+name+\"_data.pkl\"\n",
    "\n",
    "    if os.path.isfile(file_name):\n",
    "        df = pd.read_pickle(file_name)\n",
    "    else:\n",
    "        df = get_power_lines(area)\n",
    "        df.to_pickle(file_name)\n",
    "        \n",
    "    return df\n"
   ]
  },
  {
   "cell_type": "code",
   "execution_count": 175,
   "id": "43f846b0",
   "metadata": {},
   "outputs": [],
   "source": [
    "def get_wind_turbine_data(area,name):\n",
    "    file_name = path_save+name+\"_data.pkl\"\n",
    "\n",
    "    if os.path.isfile(file_name):\n",
    "        df = pd.read_pickle(file_name)\n",
    "    else:\n",
    "        df = get_wind_turbines(area)\n",
    "        df.to_pickle(file_name)\n",
    "        \n",
    "    return df"
   ]
  },
  {
   "cell_type": "code",
   "execution_count": 176,
   "id": "2dccb2a3",
   "metadata": {},
   "outputs": [],
   "source": [
    "def get_substation_data(area,name):\n",
    "    file_name = path_save+name+\"_data.pkl\"\n",
    "\n",
    "    if os.path.isfile(file_name):\n",
    "        df = pd.read_pickle(file_name)\n",
    "    else:\n",
    "        df = get_substations(area)\n",
    "        df.to_pickle(file_name)\n",
    "        \n",
    "    return df"
   ]
  },
  {
   "cell_type": "code",
   "execution_count": 177,
   "id": "47a96491",
   "metadata": {},
   "outputs": [],
   "source": [
    "def get_plant_data(area,name):\n",
    "    file_name = path_save+name+\"_data.pkl\"\n",
    "\n",
    "    if os.path.isfile(file_name):\n",
    "        df = pd.read_pickle(file_name)\n",
    "    else:\n",
    "        df = get_plants(area)\n",
    "        df.to_pickle(file_name)\n",
    "        \n",
    "    return df"
   ]
  },
  {
   "cell_type": "code",
   "execution_count": 178,
   "id": "f0d2e332",
   "metadata": {},
   "outputs": [],
   "source": [
    "def plot_wind_farms(df_wind_turbines,df_power_lines,df_substations,df_plants,kwargs_for_figure={}):\n",
    "\n",
    "    # Define default and then update figure and marker options based on kwargs\n",
    "    figure_options = {\n",
    "        \"tools\": \"save,pan,wheel_zoom,reset,help\",\n",
    "        \"x_axis_label\": \"Longitude\",\n",
    "        \"y_axis_label\": \"Latitude\",\n",
    "        \"match_aspect\": True,\n",
    "    }\n",
    "    figure_options.update(kwargs_for_figure)\n",
    "\n",
    "    # Create a bokeh figure with tiles\n",
    "    p = figure(\n",
    "        width=800,\n",
    "        height=800,\n",
    "        x_axis_type=\"mercator\",\n",
    "        y_axis_type=\"mercator\",\n",
    "        **figure_options,\n",
    "    )\n",
    "\n",
    "    p.add_tile(MAP_TILES['ESRI'])#,level=\"underlay\")\n",
    "\n",
    "    if df_power_lines is not None:\n",
    "        xx = list()\n",
    "        yy = list()\n",
    "        names = list()\n",
    "        voltage = list()\n",
    "        colors = list()\n",
    "        for cnt,way in df_power_lines.iterrows():\n",
    "\n",
    "\n",
    "            xxx,yyy = TRANSFORM_4326_TO_3857.transform(list(pd.DataFrame.from_records(way['geometry'])['lat']),\n",
    "                                                    list(pd.DataFrame.from_records(way['geometry'])['lon']))\n",
    "\n",
    "            xx.append(xxx)\n",
    "            yy.append(yyy)\n",
    "            voltage.append(float(way['voltage'])/1000)\n",
    "            colors.append(way['color'])\n",
    "\n",
    "\n",
    "        source = ColumnDataSource({'xs':xx,'ys':yy,'color':colors,'voltage':voltage})\n",
    "\n",
    "        render_lines = p.multi_line('xs',\n",
    "                    'ys',\n",
    "                    source=source,\n",
    "                    line_width=2,\n",
    "                    line_color='color',\n",
    "            )\n",
    "\n",
    "        # HoverTool for power lines\n",
    "        hover_lines = HoverTool(renderers=[render_lines])\n",
    "        hover_lines.tooltips = [(\"Voltage\", \"@voltage kV\")]\n",
    "        p.add_tools(hover_lines)\n",
    "\n",
    "\n",
    "\n",
    "    # Plot the wind turbines\n",
    "    marker_options = {\n",
    "        \"marker\": \"circle_y\",\n",
    "        \"line_width\": 2,\n",
    "        \"alpha\": 0.5,\n",
    "        \"fill_color\": \"blue\",\n",
    "        \"line_color\": \"white\",\n",
    "        #\"legend_group\": \"data_rank\",\n",
    "    }\n",
    "\n",
    "    df_wind_turbines[\"x\"], df_wind_turbines[\"y\"] = TRANSFORM_4326_TO_3857.transform(\n",
    "        df_wind_turbines[\"lat\"], df_wind_turbines[\"lon\"]\n",
    "    )\n",
    "    df_wind_turbines[\"coordinates\"] = tuple(zip(df_wind_turbines[\"lat\"], df_wind_turbines[\"lon\"]))\n",
    "\n",
    "    source_wind_turbines = ColumnDataSource(df_wind_turbines)\n",
    "    \n",
    "    render_wind_turbines = p.scatter(x=\"x\", y=\"y\", source=source_wind_turbines, size=8, **marker_options)\n",
    "\n",
    "    # HoverTool for wind turbines\n",
    "    hover_wind_turbines = HoverTool(renderers=[render_wind_turbines])\n",
    "    hover_wind_turbines.tooltips = [(\"nodeId\", \"@id\"),\n",
    "                            (\"capacity MW\", \"@generator_output_electricity\"),\n",
    "                            (\"hub_height\", \"@height_hub\"),\n",
    "                            (\"rotor_diameter\", \"@rotor_diameter\"),\n",
    "                            (\"manufacturer\", \"@manufacturer\"),\n",
    "                            (\"model\", \"@model\"),\n",
    "                            (\"(Lat,Lon)\", \"@coordinates\")\n",
    "                            ]\n",
    "    p.add_tools(hover_wind_turbines)\n",
    "\n",
    "\n",
    "    # Plot the substations\n",
    "    marker_options = {\n",
    "        \"marker\": \"square\",\n",
    "        \"line_width\": 1,\n",
    "        \"alpha\": 0.8,\n",
    "        \"fill_color\": \"black\",\n",
    "        \"line_color\": \"red\",\n",
    "    }\n",
    "\n",
    "    if df_substations is not None:\n",
    "        df_substations[\"x\"], df_substations[\"y\"] = TRANSFORM_4326_TO_3857.transform(\n",
    "            df_substations[\"lat\"], df_substations[\"lon\"]\n",
    "        )\n",
    "        df_substations[\"coordinates\"] = tuple(zip(df_substations[\"lat\"], df_substations[\"lon\"]))\n",
    "\n",
    "        #df_substations[\"voltage\"] = df_substations[\"voltage\"]\n",
    "\n",
    "        source_substations = ColumnDataSource(df_substations)\n",
    "        \n",
    "        render_substations = p.scatter(x=\"x\", y=\"y\", source=source_substations, size=12, **marker_options)\n",
    "\n",
    "        # HoverTool for substations\n",
    "        hover_substations = HoverTool(renderers=[render_substations])\n",
    "        hover_substations.tooltips = [(\"nodeId\", \"@id\"),\n",
    "                                (\"name\", \"@name\"),\n",
    "                                (\"voltage\", \"@voltage V\"),\n",
    "                                (\"(Lat,Lon)\", \"@coordinates\")\n",
    "                                ]\n",
    "        p.add_tools(hover_substations)\n",
    "                \n",
    "\n",
    "    if df_plants is not None:\n",
    "        xx = list()\n",
    "        yy = list()\n",
    "        names = list()\n",
    "        colours = list()\n",
    "        for cnt,way in df_plants.iterrows():\n",
    "\n",
    "\n",
    "            xxx,yyy = TRANSFORM_4326_TO_3857.transform(list(pd.DataFrame.from_records(way['geometry'])['lat']),\n",
    "                                                    list(pd.DataFrame.from_records(way['geometry'])['lon']))\n",
    "\n",
    "            xx.append(xxx)\n",
    "            yy.append(yyy)\n",
    "            names.append(way['name'])\n",
    "            colours.append('white')\n",
    "\n",
    "        source = ColumnDataSource({'xs':xx,'ys':yy,'color':colours,'names':names})\n",
    "\n",
    "        render_lines = p.multi_line('xs',\n",
    "                    'ys',\n",
    "                    source=source,\n",
    "                    line_width=2,\n",
    "                    line_color='color',\n",
    "            )\n",
    "\n",
    "        # HoverTool for power lines\n",
    "        hover_lines = HoverTool(renderers=[render_lines])\n",
    "        hover_lines.tooltips = [(\"Name\", \"@names\")]\n",
    "        p.add_tools(hover_lines)\n",
    "\n",
    "        \n",
    "\n",
    "    url = \"https://www.openstreetmap.org/node/@id/\"\n",
    "    \n",
    "    render_wind_turbines.selection_glyph = None\n",
    "    render_wind_turbines.nonselection_glyph = None\n",
    "    taptool_wind_turbines = TapTool(renderers=[render_wind_turbines])\n",
    "    taptool_wind_turbines.callback = OpenURL(url=url)\n",
    "    p.add_tools(taptool_wind_turbines)\n",
    "\n",
    "\n",
    "    return p"
   ]
  },
  {
   "cell_type": "code",
   "execution_count": 179,
   "id": "8b96bece",
   "metadata": {},
   "outputs": [],
   "source": [
    "df_power_line = get_power_line_data(area,\"power_lines\")\n",
    "df_wind_turbines = get_wind_turbine_data(area,\"wind_turbines\")\n",
    "df_substations = get_substation_data(area,\"substations\")\n",
    "df_plants = get_plant_data(area,\"plants\")\n",
    "\n",
    "df_power_line = df_power_line.rename(columns=lambda x: re.sub(':','_',x))\n",
    "df_wind_turbines = df_wind_turbines.rename(columns=lambda x: re.sub(':','_',x))\n",
    "df_substations = df_substations.rename(columns=lambda x: re.sub(':','_',x))\n",
    "df_plants = df_plants.rename(columns=lambda x: re.sub(':','_',x))"
   ]
  },
  {
   "cell_type": "code",
   "execution_count": 180,
   "id": "d46b97c2",
   "metadata": {},
   "outputs": [],
   "source": [
    "df_plants.loc[df_plants[\"name\"].isna(),\"name\"] = df_plants[df_plants[\"name\"].isna()][\"seamark_name\"]"
   ]
  },
  {
   "cell_type": "code",
   "execution_count": 181,
   "id": "10cdcbf6",
   "metadata": {},
   "outputs": [],
   "source": [
    "output_file(\"wind_farms.html\")"
   ]
  },
  {
   "cell_type": "code",
   "execution_count": 182,
   "id": "79e3d94f",
   "metadata": {},
   "outputs": [
    {
     "data": {
      "text/plain": [
       "{'150000', '220000', '33000', '450000', '66000', nan}"
      ]
     },
     "execution_count": 182,
     "metadata": {},
     "output_type": "execute_result"
    }
   ],
   "source": [
    "set(df_power_line[\"voltage\"])"
   ]
  },
  {
   "cell_type": "code",
   "execution_count": 183,
   "id": "06a7f3c3",
   "metadata": {},
   "outputs": [],
   "source": [
    "color_mapping = dict(zip(['33000', '66000', '150000', '220000', '450000'],[\"green\",\"black\",\"orange\",\"yellow\",\"red\"]))\n",
    "\n",
    "df_power_line[\"color\"] = df_power_line[\"voltage\"].map(color_mapping)\n",
    "df_power_line[\"color\"] = df_power_line[\"color\"].fillna(\"black\")\n"
   ]
  },
  {
   "cell_type": "code",
   "execution_count": 184,
   "id": "c00bdb9a",
   "metadata": {},
   "outputs": [],
   "source": [
    "wind_farms = plot_wind_farms(df_wind_turbines,df_power_line,df_substations,df_plants)\n",
    "\n",
    "wind_farms.title.text = \"Offshore wind farms in OpenStreetMap\""
   ]
  },
  {
   "cell_type": "code",
   "execution_count": 185,
   "id": "4c37a2fb",
   "metadata": {},
   "outputs": [],
   "source": [
    "# x_coords_image,y_coords_image = TRANSFORM_4326_TO_3857.transform([51.05,52.16],[1.57,4.44])\n",
    "\n",
    "# img_path = \"x_MarineTraffic.png\"\n",
    "# background_image = Image.open(img_path)\n",
    "# wind_farms.image_url(url=[img_path], x=min(x_coords_image), y=max(y_coords_image),\n",
    "#             w=max(x_coords_image)-min(x_coords_image), \n",
    "#             h=max(y_coords_image)-min(y_coords_image), \n",
    "#             anchor=\"top_left\",\n",
    "#             global_alpha = 1,\n",
    "#             level=\"underlay\")"
   ]
  },
  {
   "cell_type": "code",
   "execution_count": 186,
   "id": "92192e97",
   "metadata": {},
   "outputs": [],
   "source": [
    "# x_coords_image,y_coords_image = TRANSFORM_4326_TO_3857.transform([51.22,51.999],[2.17,4.1734])\n",
    "\n",
    "# img_path = \"x_2024-07-31-00_00_2024-07-31-23_59_Sentinel-1_IW_VV+VH_VV_-_decibel_gamma0.jpg\"\n",
    "# img_path = \"x_2022-06-14-00_00_2022-06-14-23_59_Sentinel-2_L2A_Moisture_index.jpg\"\n",
    "# img_path = \"x_2023-06-24-00_00_2023-06-24-23_59_Sentinel-2_L2A_True_color.jpg\"\n",
    "# img_path = \"x_2024-07-21-00_00_2024-07-21-23_59_Sentinel-1_IW_VV+VH_VV_-_decibel_gamma0.jpg\"\n",
    "# img_path = \"x_2024-09-21-00_00_2024-09-21-23_59_Sentinel-2_L2A_True_color.jpg\"\n",
    "# background_image = Image.open(img_path)\n",
    "# wind_farms.image_url(url=[img_path], x=min(x_coords_image), y=max(y_coords_image),\n",
    "#             w=max(x_coords_image)-min(x_coords_image), \n",
    "#             h=max(y_coords_image)-min(y_coords_image), \n",
    "#             anchor=\"top_left\",\n",
    "#             global_alpha = 1,\n",
    "#             level=\"underlay\")"
   ]
  },
  {
   "cell_type": "code",
   "execution_count": 187,
   "id": "5c1a29a8",
   "metadata": {},
   "outputs": [
    {
     "data": {
      "text/html": [
       "<div style=\"display: table;\"><div style=\"display: table-row;\"><div style=\"display: table-cell;\"><b title=\"bokeh.models.renderers.glyph_renderer.GlyphRenderer\">GlyphRenderer</b>(</div><div style=\"display: table-cell;\">id&nbsp;=&nbsp;'p1746', <span id=\"p1750\" style=\"cursor: pointer;\">&hellip;)</span></div></div><div class=\"p1749\" style=\"display: none;\"><div style=\"display: table-cell;\"></div><div style=\"display: table-cell;\">coordinates&nbsp;=&nbsp;None,</div></div><div class=\"p1749\" style=\"display: none;\"><div style=\"display: table-cell;\"></div><div style=\"display: table-cell;\">data_source&nbsp;=&nbsp;ColumnDataSource(id='p1740', ...),</div></div><div class=\"p1749\" style=\"display: none;\"><div style=\"display: table-cell;\"></div><div style=\"display: table-cell;\">glyph&nbsp;=&nbsp;ImageURL(id='p1743', ...),</div></div><div class=\"p1749\" style=\"display: none;\"><div style=\"display: table-cell;\"></div><div style=\"display: table-cell;\">group&nbsp;=&nbsp;None,</div></div><div class=\"p1749\" style=\"display: none;\"><div style=\"display: table-cell;\"></div><div style=\"display: table-cell;\">hover_glyph&nbsp;=&nbsp;None,</div></div><div class=\"p1749\" style=\"display: none;\"><div style=\"display: table-cell;\"></div><div style=\"display: table-cell;\">js_event_callbacks&nbsp;=&nbsp;{},</div></div><div class=\"p1749\" style=\"display: none;\"><div style=\"display: table-cell;\"></div><div style=\"display: table-cell;\">js_property_callbacks&nbsp;=&nbsp;{},</div></div><div class=\"p1749\" style=\"display: none;\"><div style=\"display: table-cell;\"></div><div style=\"display: table-cell;\">level&nbsp;=&nbsp;'underlay',</div></div><div class=\"p1749\" style=\"display: none;\"><div style=\"display: table-cell;\"></div><div style=\"display: table-cell;\">muted&nbsp;=&nbsp;False,</div></div><div class=\"p1749\" style=\"display: none;\"><div style=\"display: table-cell;\"></div><div style=\"display: table-cell;\">muted_glyph&nbsp;=&nbsp;ImageURL(id='p1745', ...),</div></div><div class=\"p1749\" style=\"display: none;\"><div style=\"display: table-cell;\"></div><div style=\"display: table-cell;\">name&nbsp;=&nbsp;None,</div></div><div class=\"p1749\" style=\"display: none;\"><div style=\"display: table-cell;\"></div><div style=\"display: table-cell;\">nonselection_glyph&nbsp;=&nbsp;ImageURL(id='p1744', ...),</div></div><div class=\"p1749\" style=\"display: none;\"><div style=\"display: table-cell;\"></div><div style=\"display: table-cell;\">propagate_hover&nbsp;=&nbsp;False,</div></div><div class=\"p1749\" style=\"display: none;\"><div style=\"display: table-cell;\"></div><div style=\"display: table-cell;\">selection_glyph&nbsp;=&nbsp;'auto',</div></div><div class=\"p1749\" style=\"display: none;\"><div style=\"display: table-cell;\"></div><div style=\"display: table-cell;\">subscribed_events&nbsp;=&nbsp;PropertyValueSet(),</div></div><div class=\"p1749\" style=\"display: none;\"><div style=\"display: table-cell;\"></div><div style=\"display: table-cell;\">syncable&nbsp;=&nbsp;True,</div></div><div class=\"p1749\" style=\"display: none;\"><div style=\"display: table-cell;\"></div><div style=\"display: table-cell;\">tags&nbsp;=&nbsp;[],</div></div><div class=\"p1749\" style=\"display: none;\"><div style=\"display: table-cell;\"></div><div style=\"display: table-cell;\">view&nbsp;=&nbsp;CDSView(id='p1747', ...),</div></div><div class=\"p1749\" style=\"display: none;\"><div style=\"display: table-cell;\"></div><div style=\"display: table-cell;\">visible&nbsp;=&nbsp;True,</div></div><div class=\"p1749\" style=\"display: none;\"><div style=\"display: table-cell;\"></div><div style=\"display: table-cell;\">x_range_name&nbsp;=&nbsp;'default',</div></div><div class=\"p1749\" style=\"display: none;\"><div style=\"display: table-cell;\"></div><div style=\"display: table-cell;\">y_range_name&nbsp;=&nbsp;'default')</div></div></div>\n",
       "<script>\n",
       "(function() {\n",
       "  let expanded = false;\n",
       "  const ellipsis = document.getElementById(\"p1750\");\n",
       "  ellipsis.addEventListener(\"click\", function() {\n",
       "    const rows = document.getElementsByClassName(\"p1749\");\n",
       "    for (let i = 0; i < rows.length; i++) {\n",
       "      const el = rows[i];\n",
       "      el.style.display = expanded ? \"none\" : \"table-row\";\n",
       "    }\n",
       "    ellipsis.innerHTML = expanded ? \"&hellip;)\" : \"&lsaquo;&lsaquo;&lsaquo;\";\n",
       "    expanded = !expanded;\n",
       "  });\n",
       "})();\n",
       "</script>\n"
      ],
      "text/plain": [
       "GlyphRenderer(id='p1746', ...)"
      ]
     },
     "execution_count": 187,
     "metadata": {},
     "output_type": "execute_result"
    }
   ],
   "source": [
    "x_coords_image,y_coords_image = TRANSFORM_4326_TO_3857.transform([51.06,52.09],[1.53,4.64])\n",
    "\n",
    "img_path = \"x_MaritimeBoundaries.png\"\n",
    "background_image = Image.open(img_path)\n",
    "wind_farms.image_url(url=[img_path], x=min(x_coords_image), y=max(y_coords_image),\n",
    "            w=max(x_coords_image)-min(x_coords_image), \n",
    "            h=max(y_coords_image)-min(y_coords_image), \n",
    "            anchor=\"top_left\",\n",
    "            global_alpha = 1,\n",
    "            level=\"underlay\")"
   ]
  },
  {
   "cell_type": "code",
   "execution_count": 188,
   "id": "4f45c64c",
   "metadata": {},
   "outputs": [],
   "source": [
    "x_coords_view,y_coords_view = TRANSFORM_4326_TO_3857.transform([51.24,51.94],[2.5,3.4])\n",
    "\n",
    "wind_farms.x_range = Range1d(min(x_coords_view),max(x_coords_view))\n",
    "wind_farms.y_range = Range1d(min(y_coords_view),max(y_coords_view))\n",
    "\n",
    "wind_farms.axis.visible=False\n",
    "wind_farms.grid.visible = False"
   ]
  },
  {
   "cell_type": "code",
   "execution_count": 189,
   "id": "aa5fd58d",
   "metadata": {},
   "outputs": [],
   "source": [
    "# show(wind_farms)"
   ]
  },
  {
   "cell_type": "code",
   "execution_count": 190,
   "id": "80d3048e",
   "metadata": {},
   "outputs": [
    {
     "name": "stderr",
     "output_type": "stream",
     "text": [
      "WARNING:bokeh.io.export:There were browser warnings and/or errors that may have affected your export\n",
      "WARNING:bokeh.io.export:file:///C:/Users/Charlie/Documents/GitHub/mapping-challenge/map_2406/bokeh_99baroq.html - Access to image at 'file:///C:/Users/Charlie/Documents/GitHub/mapping-challenge/map_2406/x_MaritimeBoundaries.png' from origin 'null' has been blocked by CORS policy: Cross origin requests are only supported for protocol schemes: chrome, chrome-extension, chrome-untrusted, data, http, https, isolated-app.\n",
      "WARNING:bokeh.io.export:file:///C:/Users/Charlie/Documents/GitHub/mapping-challenge/map_2406/x_MaritimeBoundaries.png - Failed to load resource: net::ERR_FAILED\n",
      "WARNING:bokeh.io.export:file:///C:/Users/Charlie/Documents/GitHub/mapping-challenge/map_2406/bokeh_99baroq.html 343:502 \"[bokeh]\" \"unable to load x_MaritimeBoundaries.png image after 1 attempts\"\n",
      "WARNING:bokeh.io.export:file:///C:/Users/Charlie/Documents/GitHub/mapping-challenge/map_2406/bokeh_99baroq.html 343:588 \"[bokeh]\" \"attempting to load x_MaritimeBoundaries.png without a cross origin policy\"\n"
     ]
    },
    {
     "data": {
      "text/plain": [
       "'c:\\\\Users\\\\Charlie\\\\Documents\\\\GitHub\\\\mapping-challenge\\\\map_2406\\\\xx_MaritimeBoundaries.png.png'"
      ]
     },
     "execution_count": 190,
     "metadata": {},
     "output_type": "execute_result"
    }
   ],
   "source": [
    "export_png(wind_farms, filename=f\"x{img_path}.png\")"
   ]
  }
 ],
 "metadata": {
  "kernelspec": {
   "display_name": ".venv",
   "language": "python",
   "name": "python3"
  },
  "language_info": {
   "codemirror_mode": {
    "name": "ipython",
    "version": 3
   },
   "file_extension": ".py",
   "mimetype": "text/x-python",
   "name": "python",
   "nbconvert_exporter": "python",
   "pygments_lexer": "ipython3",
   "version": "3.11.4"
  }
 },
 "nbformat": 4,
 "nbformat_minor": 5
}
